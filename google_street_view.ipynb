{
 "cells": [
  {
   "cell_type": "code",
   "execution_count": 1,
   "metadata": {
    "collapsed": true,
    "deletable": true,
    "editable": true
   },
   "outputs": [],
   "source": [
    "import mxnet as mx\n",
    "import logging\n",
    "import numpy as np\n",
    "import os, urllib2, time\n",
    "import warnings\n",
    "warnings.simplefilter('ignore',DeprecationWarning)\n",
    "logging.basicConfig(level=logging.DEBUG)"
   ]
  },
  {
   "cell_type": "code",
   "execution_count": 2,
   "metadata": {
    "collapsed": true,
    "deletable": true,
    "editable": true
   },
   "outputs": [],
   "source": [
    "import pickle as pkl\n",
    "\n",
    "data = pkl.load(open('svhn_64_box_truncated.p', 'r'))"
   ]
  },
  {
   "cell_type": "code",
   "execution_count": 3,
   "metadata": {
    "collapsed": false,
    "deletable": true,
    "editable": true
   },
   "outputs": [
    {
     "data": {
      "text/plain": [
       "{'X_test': array([[  0,   0,   0, ...,   0,   0,   0],\n",
       "        [  0,   0,   0, ...,   0,   0,   0],\n",
       "        [ 80,  81,  84, ...,  71,  73,  72],\n",
       "        ..., \n",
       "        [  0,   0,   0, ...,   0,   0,   0],\n",
       "        [144, 144, 147, ..., 131, 131, 132],\n",
       "        [  0,   0,   0, ...,  82,  82,  83]], dtype=uint8),\n",
       " 'X_train': array([[  0,   0,   0, ...,   0,   0,   0],\n",
       "        [  0,   0,   0, ...,   0,   0,   0],\n",
       "        [ 61,  60,  64, ..., 152, 152, 152],\n",
       "        ..., \n",
       "        [  0,   0,   0, ...,   0,   0,   0],\n",
       "        [131, 128, 126, ..., 159, 158, 159],\n",
       "        [200, 201, 204, ..., 188, 184, 186]], dtype=uint8),\n",
       " 'y_test': array([[ 28.,  20.,   9.,  24.],\n",
       "        [ 26.,  26.,  12.,  13.],\n",
       "        [  5.,   5.,  55.,  54.],\n",
       "        ..., \n",
       "        [ 24.,  25.,  16.,  15.],\n",
       "        [ -7.,   5.,  78.,  54.],\n",
       "        [ 14.,  12.,  37.,  40.]], dtype=float32),\n",
       " 'y_train': array([[  18.,   16.,   29.,   32.],\n",
       "        [  19.,   13.,   27.,   39.],\n",
       "        [ -18.,   -6.,  100.,   77.],\n",
       "        ..., \n",
       "        [  13.,   15.,   39.,   35.],\n",
       "        [  14.,    2.,   37.,   60.],\n",
       "        [  -5.,  -10.,   75.,   84.]], dtype=float32)}"
      ]
     },
     "execution_count": 3,
     "metadata": {},
     "output_type": "execute_result"
    }
   ],
   "source": [
    "data"
   ]
  },
  {
   "cell_type": "code",
   "execution_count": 4,
   "metadata": {
    "collapsed": false,
    "deletable": true,
    "editable": true
   },
   "outputs": [],
   "source": [
    "import numpy as np\n",
    "from numpy import newaxis\n",
    "\n",
    "data['X_train'] = mx.nd.array(data['X_train'], dtype=np.float32)\n",
    "data['X_test'] = mx.nd.array(data['X_test'], dtype=np.float32)\n",
    "data_x_train = data['X_train'].reshape((-1,3,64,64))\n",
    "data_x_valid = data['X_test'].reshape((-1,3,64,64))\n",
    "data['y_train'] = mx.nd.array(data['y_train'])\n",
    "data['y_test'] = mx.nd.array(data['y_test'])\n",
    "data_y_train = data['y_train'] \n",
    "data_y_valid = data['y_test'] \n",
    "train_set = mx.io.NDArrayIter(data_x_train, data_y_train, batch_size=32)\n",
    "valid_set = mx.io.NDArrayIter(data_x_valid, data_y_valid, batch_size=32)"
   ]
  },
  {
   "cell_type": "code",
   "execution_count": 5,
   "metadata": {
    "collapsed": false,
    "deletable": true,
    "editable": true
   },
   "outputs": [
    {
     "name": "stdout",
     "output_type": "stream",
     "text": [
      "[DataDesc[softmax_label,(32, 4L),<type 'numpy.float32'>,NCHW]]\n",
      "[DataDesc[data,(32, 3L, 64L, 64L),<type 'numpy.float32'>,NCHW]]\n"
     ]
    }
   ],
   "source": [
    "print train_set.provide_label\n",
    "print train_set.provide_data"
   ]
  },
  {
   "cell_type": "code",
   "execution_count": 11,
   "metadata": {
    "collapsed": false,
    "deletable": true,
    "editable": true
   },
   "outputs": [],
   "source": [
    "data = mx.symbol.Variable(name=\"data\")\n",
    "label = mx.sym.Variable('softmax_label')\n",
    "conv1_1 = mx.symbol.Convolution(data=data, kernel=(3, 3), pad=(1, 1), num_filter=32, name=\"conv1_1\")\n",
    "relu1_1 = mx.symbol.Activation(data=conv1_1, act_type=\"relu\", name=\"relu1_1\")\n",
    "conv1_2 = mx.symbol.Convolution(data=relu1_1, kernel=(3, 3), pad=(1, 1), num_filter=32, name=\"conv1_2\")\n",
    "relu1_2 = mx.symbol.Activation(data=conv1_2, act_type=\"relu\", name=\"relu1_2\")\n",
    "pool1 = mx.symbol.Pooling(data=relu1_2, pool_type=\"max\", kernel=(2, 2), stride=(2,2), name=\"pool1\")\n",
    "dropout1 = mx.symbol.Dropout(data=pool1, p=0.5,name=\"dropout1\")\n",
    "\n",
    "conv2_1 = mx.symbol.Convolution(data=dropout1, kernel=(3, 3), pad=(1, 1), num_filter=64, name=\"conv2_1\")\n",
    "relu2_1 = mx.symbol.Activation(data=conv2_1, act_type=\"relu\", name=\"relu2_1\")\n",
    "conv2_2 = mx.symbol.Convolution(data=relu2_1, kernel=(3, 3), pad=(1, 1), num_filter=64, name=\"conv2_2\")\n",
    "relu2_2 = mx.symbol.Activation(data=conv2_2, act_type=\"relu\", name=\"relu2_2\")\n",
    "pool2 = mx.symbol.Pooling(data=relu2_2, pool_type=\"max\", kernel=(2, 2), stride=(2,2), name=\"pool2\")\n",
    "dropout2 = mx.symbol.Dropout(data=pool2, p=0.5,name=\"dropout2\")\n",
    "\n",
    "conv3_1 = mx.symbol.Convolution(data=dropout2, kernel=(3, 3), pad=(1, 1), num_filter=128, name=\"conv3_1\")\n",
    "relu3_1 = mx.symbol.Activation(data=conv3_1, act_type=\"relu\", name=\"relu3_1\")\n",
    "conv3_2 = mx.symbol.Convolution(data=relu3_1, kernel=(3, 3), pad=(1, 1), num_filter=128, name=\"conv3_2\")\n",
    "relu3_2 = mx.symbol.Activation(data=conv3_2, act_type=\"relu\", name=\"relu3_2\")\n",
    "flatten = mx.symbol.Flatten(data = relu3_2, name = \"flatten\")\n",
    "linear1 = mx.symbol.FullyConnected(data= flatten ,num_hidden=4, name='linear1')\n",
    "pred = mx.sym.SoftmaxOutput(data=linear1, label=label, name='softmax')\n",
    "\n",
    "'''\n",
    "data = mx.symbol.Variable(name=\"data\")\n",
    "label = mx.sym.Variable('softmax_label')\n",
    "conv1_1 = mx.symbol.Convolution(data=data, kernel=(3, 3), pad=(1, 1), num_filter=64, name=\"conv1_1\")\n",
    "relu1_1 = mx.symbol.Activation(data=conv1_1, act_type=\"relu\", name=\"relu1_1\")\n",
    "conv1_2 = mx.symbol.Convolution(data=relu1_1, kernel=(3, 3), pad=(1, 1), num_filter=64, name=\"conv1_2\")\n",
    "relu1_2 = mx.symbol.Activation(data=conv1_2, act_type=\"relu\", name=\"relu1_2\")\n",
    "pool1 = mx.symbol.Pooling(data=relu1_2, pool_type=\"max\", kernel=(2, 2), stride=(2,2), name=\"pool1\")\n",
    "dropout1 = mx.symbol.Dropout(data=pool1, p=0.5,name=\"dropout1\")\n",
    "\n",
    "conv2_1 = mx.symbol.Convolution(data=dropout1, kernel=(3, 3), pad=(1, 1), num_filter=96, name=\"conv2_1\")\n",
    "relu2_1 = mx.symbol.Activation(data=conv2_1, act_type=\"relu\", name=\"relu2_1\")\n",
    "conv2_2 = mx.symbol.Convolution(data=relu2_1, kernel=(3, 3), pad=(1, 1), num_filter=96, name=\"conv2_2\")\n",
    "relu2_2 = mx.symbol.Activation(data=conv2_2, act_type=\"relu\", name=\"relu2_2\")\n",
    "pool2 = mx.symbol.Pooling(data=relu2_2, pool_type=\"max\", kernel=(2, 2), stride=(2,2), name=\"pool2\")\n",
    "\n",
    "flatten = mx.symbol.Flatten(data = pool2, name = \"flatten\")\n",
    "linear1 = mx.symbol.FullyConnected(data= flatten ,num_hidden=4, name='linear1')\n",
    "pred = mx.sym.SoftmaxOutput(data=linear1, label=label, name='softmax')\n",
    "'''"
   ]
  },
  {
   "cell_type": "code",
   "execution_count": 12,
   "metadata": {
    "collapsed": false,
    "deletable": true,
    "editable": true
   },
   "outputs": [],
   "source": [
    "model = mx.mod.Module(pred)"
   ]
  },
  {
   "cell_type": "code",
   "execution_count": 13,
   "metadata": {
    "collapsed": true,
    "deletable": true,
    "editable": true
   },
   "outputs": [],
   "source": [
    "ctx = mx.cpu(0)"
   ]
  },
  {
   "cell_type": "code",
   "execution_count": 14,
   "metadata": {
    "collapsed": false,
    "deletable": true,
    "editable": true
   },
   "outputs": [
    {
     "name": "stderr",
     "output_type": "stream",
     "text": [
      "INFO:root:Epoch[0] Batch [100]\tSpeed: 520.61 samples/sec\tmse=1090.991327\n",
      "INFO:root:Epoch[0] Train-mse=1051.128430\n",
      "INFO:root:Epoch[0] Time cost=11.300\n",
      "INFO:root:Epoch[0] Validation-mse=1057.351976\n",
      "INFO:root:Epoch[1] Batch [100]\tSpeed: 522.83 samples/sec\tmse=1095.490099\n",
      "INFO:root:Epoch[1] Batch [200]\tSpeed: 524.87 samples/sec\tmse=1116.667969\n",
      "INFO:root:Epoch[1] Batch [300]\tSpeed: 522.37 samples/sec\tmse=1095.521641\n",
      "INFO:root:Epoch[1] Batch [400]\tSpeed: 526.50 samples/sec\tmse=1079.460156\n",
      "INFO:root:Epoch[1] Batch [500]\tSpeed: 515.30 samples/sec\tmse=1114.426328\n",
      "INFO:root:Epoch[1] Batch [600]\tSpeed: 518.94 samples/sec\tmse=1054.968672\n",
      "INFO:root:Epoch[1] Batch [700]\tSpeed: 527.48 samples/sec\tmse=1103.516016\n",
      "INFO:root:Epoch[1] Batch [800]\tSpeed: 526.91 samples/sec\tmse=1041.345078\n",
      "INFO:root:Epoch[1] Train-mse=1027.326613\n",
      "INFO:root:Epoch[1] Time cost=50.844\n",
      "INFO:root:Epoch[1] Validation-mse=1057.356858\n",
      "INFO:root:Epoch[2] Batch [100]\tSpeed: 528.55 samples/sec\tmse=1095.500309\n",
      "INFO:root:Epoch[2] Batch [200]\tSpeed: 524.38 samples/sec\tmse=1121.552031\n",
      "INFO:root:Epoch[2] Batch [300]\tSpeed: 526.45 samples/sec\tmse=1107.335703\n",
      "INFO:root:Epoch[2] Batch [400]\tSpeed: 526.94 samples/sec\tmse=1091.567500\n",
      "INFO:root:Epoch[2] Batch [500]\tSpeed: 523.36 samples/sec\tmse=1126.084609\n",
      "INFO:root:Epoch[2] Batch [600]\tSpeed: 520.75 samples/sec\tmse=1066.538984\n",
      "INFO:root:Epoch[2] Batch [700]\tSpeed: 524.01 samples/sec\tmse=1115.239922\n",
      "INFO:root:Epoch[2] Batch [800]\tSpeed: 526.35 samples/sec\tmse=1052.611797\n",
      "INFO:root:Epoch[2] Train-mse=1038.870968\n",
      "INFO:root:Epoch[2] Time cost=50.732\n",
      "INFO:root:Epoch[2] Validation-mse=1068.912072\n",
      "INFO:root:Epoch[3] Batch [100]\tSpeed: 539.86 samples/sec\tmse=1107.415377\n",
      "INFO:root:Epoch[3] Batch [200]\tSpeed: 542.35 samples/sec\tmse=1128.354687\n",
      "INFO:root:Epoch[3] Batch [300]\tSpeed: 542.36 samples/sec\tmse=1107.335703\n",
      "INFO:root:Epoch[3] Batch [400]\tSpeed: 543.30 samples/sec\tmse=1091.567500\n",
      "INFO:root:Epoch[3] Batch [500]\tSpeed: 542.18 samples/sec\tmse=1126.084609\n",
      "INFO:root:Epoch[3] Batch [600]\tSpeed: 541.81 samples/sec\tmse=1066.538984\n",
      "INFO:root:Epoch[3] Batch [700]\tSpeed: 543.76 samples/sec\tmse=1115.239922\n",
      "INFO:root:Epoch[3] Batch [800]\tSpeed: 542.65 samples/sec\tmse=1052.611797\n",
      "INFO:root:Epoch[3] Train-mse=1038.870968\n",
      "INFO:root:Epoch[3] Time cost=49.089\n",
      "INFO:root:Epoch[3] Validation-mse=1068.912072\n",
      "INFO:root:Epoch[4] Batch [100]\tSpeed: 535.30 samples/sec\tmse=1107.415377\n",
      "INFO:root:Epoch[4] Batch [200]\tSpeed: 532.63 samples/sec\tmse=1128.354687\n",
      "INFO:root:Epoch[4] Batch [300]\tSpeed: 531.84 samples/sec\tmse=1107.335703\n",
      "INFO:root:Epoch[4] Batch [400]\tSpeed: 531.59 samples/sec\tmse=1091.567500\n",
      "INFO:root:Epoch[4] Batch [500]\tSpeed: 530.32 samples/sec\tmse=1126.084609\n",
      "INFO:root:Epoch[4] Batch [600]\tSpeed: 532.02 samples/sec\tmse=1066.538984\n",
      "INFO:root:Epoch[4] Batch [700]\tSpeed: 537.64 samples/sec\tmse=1115.239922\n",
      "INFO:root:Epoch[4] Batch [800]\tSpeed: 538.74 samples/sec\tmse=1052.611797\n",
      "INFO:root:Epoch[4] Train-mse=1038.870968\n",
      "INFO:root:Epoch[4] Time cost=49.862\n",
      "INFO:root:Epoch[4] Validation-mse=1068.912072\n",
      "INFO:root:Epoch[5] Batch [100]\tSpeed: 538.77 samples/sec\tmse=1107.415377\n",
      "INFO:root:Epoch[5] Batch [200]\tSpeed: 542.41 samples/sec\tmse=1128.354687\n",
      "INFO:root:Epoch[5] Batch [300]\tSpeed: 539.01 samples/sec\tmse=1107.335703\n",
      "INFO:root:Epoch[5] Batch [400]\tSpeed: 533.00 samples/sec\tmse=1091.567500\n",
      "INFO:root:Epoch[5] Batch [500]\tSpeed: 534.38 samples/sec\tmse=1126.084609\n",
      "INFO:root:Epoch[5] Batch [600]\tSpeed: 534.54 samples/sec\tmse=1066.538984\n",
      "INFO:root:Epoch[5] Batch [700]\tSpeed: 543.58 samples/sec\tmse=1115.239922\n",
      "INFO:root:Epoch[5] Batch [800]\tSpeed: 545.48 samples/sec\tmse=1052.611797\n",
      "INFO:root:Epoch[5] Train-mse=1038.870968\n",
      "INFO:root:Epoch[5] Time cost=49.357\n",
      "INFO:root:Epoch[5] Validation-mse=1068.912072\n",
      "INFO:root:Epoch[6] Batch [100]\tSpeed: 543.21 samples/sec\tmse=1107.415377\n",
      "INFO:root:Epoch[6] Batch [200]\tSpeed: 539.40 samples/sec\tmse=1128.354687\n",
      "INFO:root:Epoch[6] Batch [300]\tSpeed: 527.69 samples/sec\tmse=1107.335703\n",
      "INFO:root:Epoch[6] Batch [400]\tSpeed: 528.02 samples/sec\tmse=1091.567500\n",
      "INFO:root:Epoch[6] Batch [500]\tSpeed: 522.43 samples/sec\tmse=1126.084609\n",
      "INFO:root:Epoch[6] Batch [600]\tSpeed: 523.60 samples/sec\tmse=1066.538984\n",
      "INFO:root:Epoch[6] Batch [700]\tSpeed: 502.46 samples/sec\tmse=1115.239922\n",
      "INFO:root:Epoch[6] Batch [800]\tSpeed: 528.16 samples/sec\tmse=1052.611797\n",
      "INFO:root:Epoch[6] Train-mse=1038.870968\n",
      "INFO:root:Epoch[6] Time cost=50.521\n",
      "INFO:root:Epoch[6] Validation-mse=1068.912072\n",
      "INFO:root:Epoch[7] Batch [100]\tSpeed: 530.66 samples/sec\tmse=1107.415377\n",
      "INFO:root:Epoch[7] Batch [200]\tSpeed: 531.06 samples/sec\tmse=1128.354687\n",
      "INFO:root:Epoch[7] Batch [300]\tSpeed: 528.51 samples/sec\tmse=1107.335703\n",
      "INFO:root:Epoch[7] Batch [400]\tSpeed: 526.51 samples/sec\tmse=1091.567500\n",
      "INFO:root:Epoch[7] Batch [500]\tSpeed: 520.55 samples/sec\tmse=1126.084609\n",
      "INFO:root:Epoch[7] Batch [600]\tSpeed: 506.10 samples/sec\tmse=1066.538984\n",
      "INFO:root:Epoch[7] Batch [700]\tSpeed: 521.60 samples/sec\tmse=1115.239922\n",
      "INFO:root:Epoch[7] Batch [800]\tSpeed: 525.07 samples/sec\tmse=1052.611797\n",
      "INFO:root:Epoch[7] Train-mse=1038.870968\n",
      "INFO:root:Epoch[7] Time cost=50.898\n",
      "INFO:root:Epoch[7] Validation-mse=1068.912072\n",
      "INFO:root:Epoch[8] Batch [100]\tSpeed: 529.88 samples/sec\tmse=1107.415377\n",
      "INFO:root:Epoch[8] Batch [200]\tSpeed: 530.45 samples/sec\tmse=1128.354687\n",
      "INFO:root:Epoch[8] Batch [300]\tSpeed: 529.84 samples/sec\tmse=1107.335703\n",
      "INFO:root:Epoch[8] Batch [400]\tSpeed: 533.90 samples/sec\tmse=1091.567500\n",
      "INFO:root:Epoch[8] Batch [500]\tSpeed: 531.89 samples/sec\tmse=1126.084609\n",
      "INFO:root:Epoch[8] Batch [600]\tSpeed: 532.80 samples/sec\tmse=1066.538984\n",
      "INFO:root:Epoch[8] Batch [700]\tSpeed: 537.40 samples/sec\tmse=1115.239922\n",
      "INFO:root:Epoch[8] Batch [800]\tSpeed: 518.83 samples/sec\tmse=1052.611797\n",
      "INFO:root:Epoch[8] Train-mse=1038.870968\n",
      "INFO:root:Epoch[8] Time cost=50.115\n",
      "INFO:root:Epoch[8] Validation-mse=1068.912072\n",
      "INFO:root:Epoch[9] Batch [100]\tSpeed: 533.41 samples/sec\tmse=1107.415377\n",
      "INFO:root:Epoch[9] Batch [200]\tSpeed: 535.26 samples/sec\tmse=1128.354687\n",
      "INFO:root:Epoch[9] Batch [300]\tSpeed: 534.39 samples/sec\tmse=1107.335703\n",
      "INFO:root:Epoch[9] Batch [400]\tSpeed: 532.35 samples/sec\tmse=1091.567500\n",
      "INFO:root:Epoch[9] Batch [500]\tSpeed: 527.43 samples/sec\tmse=1126.084609\n",
      "INFO:root:Epoch[9] Batch [600]\tSpeed: 532.36 samples/sec\tmse=1066.538984\n",
      "INFO:root:Epoch[9] Batch [700]\tSpeed: 533.80 samples/sec\tmse=1115.239922\n",
      "INFO:root:Epoch[9] Batch [800]\tSpeed: 533.81 samples/sec\tmse=1052.611797\n",
      "INFO:root:Epoch[9] Train-mse=1038.870968\n",
      "INFO:root:Epoch[9] Time cost=49.951\n",
      "INFO:root:Epoch[9] Validation-mse=1068.912072\n"
     ]
    }
   ],
   "source": [
    "model.fit(\n",
    "        train_data          = train_set,\n",
    "        eval_data           = valid_set,\n",
    "        eval_metric         = mx.metric.MSE(),\n",
    "        optimizer           = mx.optimizer.RMSProp(),\n",
    "        initializer         = mx.init.Xavier(),\n",
    "        num_epoch           = 10,\n",
    "        batch_end_callback  = mx.callback.Speedometer(32,100))"
   ]
  },
  {
   "cell_type": "code",
   "execution_count": null,
   "metadata": {
    "collapsed": true
   },
   "outputs": [],
   "source": []
  }
 ],
 "metadata": {
  "kernelspec": {
   "display_name": "Python 2",
   "language": "python",
   "name": "python2"
  },
  "language_info": {
   "codemirror_mode": {
    "name": "ipython",
    "version": 2
   },
   "file_extension": ".py",
   "mimetype": "text/x-python",
   "name": "python",
   "nbconvert_exporter": "python",
   "pygments_lexer": "ipython2",
   "version": "2.7.6"
  }
 },
 "nbformat": 4,
 "nbformat_minor": 2
}
