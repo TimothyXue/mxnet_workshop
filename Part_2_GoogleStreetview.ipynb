{
 "cells": [
  {
   "cell_type": "markdown",
   "metadata": {},
   "source": [
    "# Part 2: Google Streetview Competition\n",
    "\n",
    "In this section, you will compete to train a network to solve the Google Streetview challenge. The goal is give you a feeling for the type of problems AI developers face. Adjust the learning rate schedule to achieve the lowest possible training cost!\n",
    "\n",
    "## The Problem\n",
    "\n",
    "Google regularly takes street view photos to populate Google Maps. To associate each photographed house with an address, Google built computer vision algorithms to read the house number from the image. Today we will train a network for the first phase of this process, which is to identify where in the image the house number is located.\n",
    "\n",
    "This dataset is a collection of 73,257 images of house numbers. Each image has been annotated by a human with a box around the digits.\n",
    "\n",
    "<img src=\"http://ufldl.stanford.edu/housenumbers/examples_new.png\" width=500px>\n",
    "\n",
    "Your goal is to train a network to, given a new image, accurately predict the bounding box on the house number. \n",
    "\n",
    "## Network\n",
    "\n",
    "We have already built the model as a neural network with a stack of different types of layers. The input is the image, and the output has 4 numbers, for the coordinates of the predicted box.\n",
    "\n",
    "\n",
    "<img src=\"images/svhn_network.png\", width=800px>\n",
    "\n",
    "## Challenge\n",
    "\n",
    "1. When you run the code below, a dashboard will be created with several sliders to adjust the learning rate over four different phases of training.\n",
    "\n",
    "2. Run the `dashboard.train()` code to train the model with the current settings. When complete, you will recieve the cost of this current training run, as well as the best cost you have achieved so far. \n",
    "\n",
    "3. Adjust the sliders to help the model train to the lowest cost possible. Re-run the `dashboard.train()` code to try another attempt. Good luck!"
   ]
  },
  {
   "cell_type": "code",
   "execution_count": null,
   "metadata": {
    "scrolled": true
   },
   "outputs": [],
   "source": [
    "# setup datasets\n",
    "%matplotlib inline\n",
    "from svhn import Dashboard\n",
    "\n",
    "# set up dashboard\n",
    "dashboard = Dashboard()"
   ]
  },
  {
   "cell_type": "code",
   "execution_count": null,
   "metadata": {},
   "outputs": [],
   "source": [
    "dashboard.train()"
   ]
  },
  {
   "cell_type": "code",
   "execution_count": null,
   "metadata": {
    "collapsed": true
   },
   "outputs": [],
   "source": []
  }
 ],
 "metadata": {
  "kernelspec": {
   "display_name": "Python 2",
   "language": "python",
   "name": "python2"
  },
  "language_info": {
   "codemirror_mode": {
    "name": "ipython",
    "version": 2
   },
   "file_extension": ".py",
   "mimetype": "text/x-python",
   "name": "python",
   "nbconvert_exporter": "python",
   "pygments_lexer": "ipython2",
   "version": "2.7.6"
  }
 },
 "nbformat": 4,
 "nbformat_minor": 2
}
