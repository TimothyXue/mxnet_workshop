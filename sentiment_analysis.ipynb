{
 "cells": [
  {
   "cell_type": "code",
   "execution_count": 1,
   "metadata": {
    "collapsed": false,
    "deletable": true,
    "editable": true
   },
   "outputs": [],
   "source": [
    "import mxnet as mx\n",
    "import logging\n",
    "import numpy as np\n",
    "import os, urllib2, time\n",
    "import warnings\n",
    "warnings.simplefilter('ignore',DeprecationWarning)\n",
    "logging.basicConfig(level=logging.DEBUG)"
   ]
  },
  {
   "cell_type": "code",
   "execution_count": 2,
   "metadata": {
    "collapsed": false,
    "deletable": true,
    "editable": true
   },
   "outputs": [],
   "source": [
    "def download(url,filename):\n",
    "    if not os.path.exists(filename):\n",
    "        # urllib.urlretrieve(url, filename)\n",
    "        resp = urllib2.urlopen(url)\n",
    "        with open(filename, 'wb') as f:\n",
    "            f.write(resp.read())"
   ]
  },
  {
   "cell_type": "code",
   "execution_count": 3,
   "metadata": {
    "collapsed": false,
    "deletable": true,
    "editable": true
   },
   "outputs": [],
   "source": [
    "import pickle as pkl\n",
    "download('https://s3-us-west-1.amazonaws.com/nervana-course/imdb_data.pkl','imdb_data')\n",
    "data = pkl.load(open('imdb_data', 'r'))"
   ]
  },
  {
   "cell_type": "code",
   "execution_count": 4,
   "metadata": {
    "collapsed": false,
    "deletable": true,
    "editable": true
   },
   "outputs": [
    {
     "data": {
      "text/plain": [
       "{'X_train': array([[    0,     0,     0, ...,  1667,  3700,  1667],\n",
       "        [    8,   982,   163, ...,   868,   159,   307],\n",
       "        [  966,     8,    33, ...,    14,  5196,    24],\n",
       "        ..., \n",
       "        [ 2128,  1862,     4, ...,    19,    14,   278],\n",
       "        [  150,     8,    79, ...,     6, 10713,   353],\n",
       "        [   37,   282,   151, ...,     6,   341,   163]], dtype=int32),\n",
       " 'X_valid': array([[    0,     0,     0, ...,  4644,    16,  3464],\n",
       "        [    4,    22,    11, ...,  1493,    11,    36],\n",
       "        [ 2119,    16,   691, ...,    45,  3966,  3336],\n",
       "        ..., \n",
       "        [   12,   117,   765, ...,  2513,    14,    36],\n",
       "        [   47,     6,   227, ...,     3,  1688, 14829],\n",
       "        [  290,     7,     2, ...,     5,  2430,   973]], dtype=int32),\n",
       " 'Y_train': array([[1],\n",
       "        [0],\n",
       "        [0],\n",
       "        ..., \n",
       "        [0],\n",
       "        [0],\n",
       "        [0]], dtype=int32),\n",
       " 'Y_valid': array([[1],\n",
       "        [1],\n",
       "        [1],\n",
       "        ..., \n",
       "        [1],\n",
       "        [0],\n",
       "        [1]], dtype=int32)}"
      ]
     },
     "execution_count": 4,
     "metadata": {},
     "output_type": "execute_result"
    }
   ],
   "source": [
    "data"
   ]
  },
  {
   "cell_type": "code",
   "execution_count": 5,
   "metadata": {
    "collapsed": false,
    "deletable": true,
    "editable": true
   },
   "outputs": [],
   "source": [
    "#data['Y_train'] = [y[0] for y in data['Y_train']]"
   ]
  },
  {
   "cell_type": "code",
   "execution_count": 6,
   "metadata": {
    "collapsed": false,
    "deletable": true,
    "editable": true
   },
   "outputs": [],
   "source": [
    "import numpy as np\n",
    "from numpy import newaxis\n",
    "\n",
    "data['X_train'] = mx.nd.array(data['X_train'], dtype=np.int32)\n",
    "data['X_valid'] = mx.nd.array(data['X_valid'], dtype=np.int32)\n",
    "data_x_train = data['X_train'].reshape((-1,128))\n",
    "data_x_valid = data['X_valid'].reshape((-1,128))\n",
    "data['Y_train'] = mx.nd.array(data['Y_train'])\n",
    "data['Y_valid'] = mx.nd.array(data['Y_valid'])\n",
    "data_y_train = data['Y_train'] #.reshape((-1, 2))\n",
    "data_y_valid = data['Y_valid'] #.reshape((-1, 2))\n",
    "train_set = mx.io.NDArrayIter(data_x_train, data_y_train, batch_size=32)\n",
    "valid_set = mx.io.NDArrayIter(data_x_valid, data_y_valid, batch_size=32)"
   ]
  },
  {
   "cell_type": "code",
   "execution_count": 7,
   "metadata": {
    "collapsed": false,
    "deletable": true,
    "editable": true
   },
   "outputs": [
    {
     "data": {
      "text/plain": [
       "(20009L, 128L)"
      ]
     },
     "execution_count": 7,
     "metadata": {},
     "output_type": "execute_result"
    }
   ],
   "source": [
    "data['X_train'].shape"
   ]
  },
  {
   "cell_type": "code",
   "execution_count": 8,
   "metadata": {
    "collapsed": false,
    "deletable": true,
    "editable": true
   },
   "outputs": [
    {
     "name": "stdout",
     "output_type": "stream",
     "text": [
      "[DataDesc[softmax_label,(32, 1L),<type 'numpy.float32'>,NCHW]]\n",
      "[DataDesc[data,(32, 128L),<type 'numpy.int32'>,NCHW]]\n"
     ]
    }
   ],
   "source": [
    "print train_set.provide_label\n",
    "print train_set.provide_data"
   ]
  },
  {
   "cell_type": "code",
   "execution_count": 9,
   "metadata": {
    "collapsed": false,
    "deletable": true,
    "editable": true
   },
   "outputs": [],
   "source": [
    "stack = mx.rnn.SequentialRNNCell()\n",
    "stack.add(mx.rnn.LSTMCell(num_hidden=64, prefix='lstm_1'))\n"
   ]
  },
  {
   "cell_type": "code",
   "execution_count": 10,
   "metadata": {
    "collapsed": false,
    "deletable": true,
    "editable": true
   },
   "outputs": [],
   "source": [
    "def sym_gen():\n",
    "    data = mx.sym.Variable('data')\n",
    "    label = mx.sym.Variable('softmax_label')\n",
    "    embed = mx.sym.Embedding(data=data, input_dim=20000,output_dim=56, name='embed')\n",
    "    stack.reset()\n",
    "    outputs, states = stack.unroll(128, inputs=embed, merge_outputs=True)\n",
    "    output = mx.sym.Dropout(data=outputs,p=0.5)\n",
    "    pred = mx.sym.Reshape(output, shape=(-1, 64*128))\n",
    "    pred = mx.sym.FullyConnected(data=pred, num_hidden=2, name='pred')\n",
    "    label = mx.sym.Reshape(label, shape=(-1,))\n",
    "    pred = mx.sym.SoftmaxOutput(data=pred, label=label, name='softmax')\n",
    "    return pred"
   ]
  },
  {
   "cell_type": "code",
   "execution_count": 11,
   "metadata": {
    "collapsed": true,
    "deletable": true,
    "editable": true
   },
   "outputs": [],
   "source": [
    "ctx = mx.cpu(0)"
   ]
  },
  {
   "cell_type": "code",
   "execution_count": 12,
   "metadata": {
    "collapsed": false,
    "deletable": true,
    "editable": true
   },
   "outputs": [],
   "source": [
    "model = mx.mod.Module(sym_gen(), context=ctx)"
   ]
  },
  {
   "cell_type": "code",
   "execution_count": 13,
   "metadata": {
    "collapsed": false,
    "deletable": true,
    "editable": true
   },
   "outputs": [
    {
     "data": {
      "text/html": [
       "\n",
       "    <div class=\"bk-root\">\n",
       "        <a href=\"http://bokeh.pydata.org\" target=\"_blank\" class=\"bk-logo bk-logo-small bk-logo-notebook\"></a>\n",
       "        <span id=\"996b0bb1-98e9-4bb0-925b-0d6ad7263a40\">Loading BokehJS ...</span>\n",
       "    </div>"
      ]
     },
     "metadata": {},
     "output_type": "display_data"
    },
    {
     "data": {
      "application/javascript": [
       "\n",
       "(function(global) {\n",
       "  function now() {\n",
       "    return new Date();\n",
       "  }\n",
       "\n",
       "  var force = true;\n",
       "\n",
       "  if (typeof (window._bokeh_onload_callbacks) === \"undefined\" || force === true) {\n",
       "    window._bokeh_onload_callbacks = [];\n",
       "    window._bokeh_is_loading = undefined;\n",
       "  }\n",
       "\n",
       "\n",
       "  \n",
       "  if (typeof (window._bokeh_timeout) === \"undefined\" || force === true) {\n",
       "    window._bokeh_timeout = Date.now() + 5000;\n",
       "    window._bokeh_failed_load = false;\n",
       "  }\n",
       "\n",
       "  var NB_LOAD_WARNING = {'data': {'text/html':\n",
       "     \"<div style='background-color: #fdd'>\\n\"+\n",
       "     \"<p>\\n\"+\n",
       "     \"BokehJS does not appear to have successfully loaded. If loading BokehJS from CDN, this \\n\"+\n",
       "     \"may be due to a slow or bad network connection. Possible fixes:\\n\"+\n",
       "     \"</p>\\n\"+\n",
       "     \"<ul>\\n\"+\n",
       "     \"<li>re-rerun `output_notebook()` to attempt to load from CDN again, or</li>\\n\"+\n",
       "     \"<li>use INLINE resources instead, as so:</li>\\n\"+\n",
       "     \"</ul>\\n\"+\n",
       "     \"<code>\\n\"+\n",
       "     \"from bokeh.resources import INLINE\\n\"+\n",
       "     \"output_notebook(resources=INLINE)\\n\"+\n",
       "     \"</code>\\n\"+\n",
       "     \"</div>\"}};\n",
       "\n",
       "  function display_loaded() {\n",
       "    if (window.Bokeh !== undefined) {\n",
       "      document.getElementById(\"996b0bb1-98e9-4bb0-925b-0d6ad7263a40\").textContent = \"BokehJS successfully loaded.\";\n",
       "    } else if (Date.now() < window._bokeh_timeout) {\n",
       "      setTimeout(display_loaded, 100)\n",
       "    }\n",
       "  }\n",
       "\n",
       "  function run_callbacks() {\n",
       "    window._bokeh_onload_callbacks.forEach(function(callback) { callback() });\n",
       "    delete window._bokeh_onload_callbacks\n",
       "    console.info(\"Bokeh: all callbacks have finished\");\n",
       "  }\n",
       "\n",
       "  function load_libs(js_urls, callback) {\n",
       "    window._bokeh_onload_callbacks.push(callback);\n",
       "    if (window._bokeh_is_loading > 0) {\n",
       "      console.log(\"Bokeh: BokehJS is being loaded, scheduling callback at\", now());\n",
       "      return null;\n",
       "    }\n",
       "    if (js_urls == null || js_urls.length === 0) {\n",
       "      run_callbacks();\n",
       "      return null;\n",
       "    }\n",
       "    console.log(\"Bokeh: BokehJS not loaded, scheduling load and callback at\", now());\n",
       "    window._bokeh_is_loading = js_urls.length;\n",
       "    for (var i = 0; i < js_urls.length; i++) {\n",
       "      var url = js_urls[i];\n",
       "      var s = document.createElement('script');\n",
       "      s.src = url;\n",
       "      s.async = false;\n",
       "      s.onreadystatechange = s.onload = function() {\n",
       "        window._bokeh_is_loading--;\n",
       "        if (window._bokeh_is_loading === 0) {\n",
       "          console.log(\"Bokeh: all BokehJS libraries loaded\");\n",
       "          run_callbacks()\n",
       "        }\n",
       "      };\n",
       "      s.onerror = function() {\n",
       "        console.warn(\"failed to load library \" + url);\n",
       "      };\n",
       "      console.log(\"Bokeh: injecting script tag for BokehJS library: \", url);\n",
       "      document.getElementsByTagName(\"head\")[0].appendChild(s);\n",
       "    }\n",
       "  };var element = document.getElementById(\"996b0bb1-98e9-4bb0-925b-0d6ad7263a40\");\n",
       "  if (element == null) {\n",
       "    console.log(\"Bokeh: ERROR: autoload.js configured with elementid '996b0bb1-98e9-4bb0-925b-0d6ad7263a40' but no matching script tag was found. \")\n",
       "    return false;\n",
       "  }\n",
       "\n",
       "  var js_urls = [\"https://cdn.pydata.org/bokeh/release/bokeh-0.12.4.min.js\", \"https://cdn.pydata.org/bokeh/release/bokeh-widgets-0.12.4.min.js\"];\n",
       "\n",
       "  var inline_js = [\n",
       "    function(Bokeh) {\n",
       "      Bokeh.set_log_level(\"info\");\n",
       "    },\n",
       "    \n",
       "    function(Bokeh) {\n",
       "      \n",
       "      document.getElementById(\"996b0bb1-98e9-4bb0-925b-0d6ad7263a40\").textContent = \"BokehJS is loading...\";\n",
       "    },\n",
       "    function(Bokeh) {\n",
       "      console.log(\"Bokeh: injecting CSS: https://cdn.pydata.org/bokeh/release/bokeh-0.12.4.min.css\");\n",
       "      Bokeh.embed.inject_css(\"https://cdn.pydata.org/bokeh/release/bokeh-0.12.4.min.css\");\n",
       "      console.log(\"Bokeh: injecting CSS: https://cdn.pydata.org/bokeh/release/bokeh-widgets-0.12.4.min.css\");\n",
       "      Bokeh.embed.inject_css(\"https://cdn.pydata.org/bokeh/release/bokeh-widgets-0.12.4.min.css\");\n",
       "    }\n",
       "  ];\n",
       "\n",
       "  function run_inline_js() {\n",
       "    \n",
       "    if ((window.Bokeh !== undefined) || (force === true)) {\n",
       "      for (var i = 0; i < inline_js.length; i++) {\n",
       "        inline_js[i](window.Bokeh);\n",
       "      }if (force === true) {\n",
       "        display_loaded();\n",
       "      }} else if (Date.now() < window._bokeh_timeout) {\n",
       "      setTimeout(run_inline_js, 100);\n",
       "    } else if (!window._bokeh_failed_load) {\n",
       "      console.log(\"Bokeh: BokehJS failed to load within specified timeout.\");\n",
       "      window._bokeh_failed_load = true;\n",
       "    } else if (force !== true) {\n",
       "      var cell = $(document.getElementById(\"996b0bb1-98e9-4bb0-925b-0d6ad7263a40\")).parents('.cell').data().cell;\n",
       "      cell.output_area.append_execute_result(NB_LOAD_WARNING)\n",
       "    }\n",
       "\n",
       "  }\n",
       "\n",
       "  if (window._bokeh_is_loading === 0) {\n",
       "    console.log(\"Bokeh: BokehJS loaded, going straight to plotting\");\n",
       "    run_inline_js();\n",
       "  } else {\n",
       "    load_libs(js_urls, function() {\n",
       "      console.log(\"Bokeh: BokehJS plotting callback run at\", now());\n",
       "      run_inline_js();\n",
       "    });\n",
       "  }\n",
       "}(this));"
      ]
     },
     "metadata": {},
     "output_type": "display_data"
    },
    {
     "data": {
      "text/html": [
       "\n",
       "\n",
       "    <div class=\"bk-root\">\n",
       "        <div class=\"bk-plotdiv\" id=\"d596508e-b5a6-49cc-ad2c-de4c13d5fe76\"></div>\n",
       "    </div>\n",
       "<script type=\"text/javascript\">\n",
       "  \n",
       "  (function(global) {\n",
       "    function now() {\n",
       "      return new Date();\n",
       "    }\n",
       "  \n",
       "    var force = false;\n",
       "  \n",
       "    if (typeof (window._bokeh_onload_callbacks) === \"undefined\" || force === true) {\n",
       "      window._bokeh_onload_callbacks = [];\n",
       "      window._bokeh_is_loading = undefined;\n",
       "    }\n",
       "  \n",
       "  \n",
       "    \n",
       "    if (typeof (window._bokeh_timeout) === \"undefined\" || force === true) {\n",
       "      window._bokeh_timeout = Date.now() + 0;\n",
       "      window._bokeh_failed_load = false;\n",
       "    }\n",
       "  \n",
       "    var NB_LOAD_WARNING = {'data': {'text/html':\n",
       "       \"<div style='background-color: #fdd'>\\n\"+\n",
       "       \"<p>\\n\"+\n",
       "       \"BokehJS does not appear to have successfully loaded. If loading BokehJS from CDN, this \\n\"+\n",
       "       \"may be due to a slow or bad network connection. Possible fixes:\\n\"+\n",
       "       \"</p>\\n\"+\n",
       "       \"<ul>\\n\"+\n",
       "       \"<li>re-rerun `output_notebook()` to attempt to load from CDN again, or</li>\\n\"+\n",
       "       \"<li>use INLINE resources instead, as so:</li>\\n\"+\n",
       "       \"</ul>\\n\"+\n",
       "       \"<code>\\n\"+\n",
       "       \"from bokeh.resources import INLINE\\n\"+\n",
       "       \"output_notebook(resources=INLINE)\\n\"+\n",
       "       \"</code>\\n\"+\n",
       "       \"</div>\"}};\n",
       "  \n",
       "    function display_loaded() {\n",
       "      if (window.Bokeh !== undefined) {\n",
       "        document.getElementById(\"d596508e-b5a6-49cc-ad2c-de4c13d5fe76\").textContent = \"BokehJS successfully loaded.\";\n",
       "      } else if (Date.now() < window._bokeh_timeout) {\n",
       "        setTimeout(display_loaded, 100)\n",
       "      }\n",
       "    }if ((window.Jupyter !== undefined) && Jupyter.notebook.kernel) {\n",
       "      comm_manager = Jupyter.notebook.kernel.comm_manager\n",
       "      comm_manager.register_target(\"98545504-6d5c-42cf-94d4-984e653361e4\", function () {});\n",
       "    }\n",
       "  \n",
       "    function run_callbacks() {\n",
       "      window._bokeh_onload_callbacks.forEach(function(callback) { callback() });\n",
       "      delete window._bokeh_onload_callbacks\n",
       "      console.info(\"Bokeh: all callbacks have finished\");\n",
       "    }\n",
       "  \n",
       "    function load_libs(js_urls, callback) {\n",
       "      window._bokeh_onload_callbacks.push(callback);\n",
       "      if (window._bokeh_is_loading > 0) {\n",
       "        console.log(\"Bokeh: BokehJS is being loaded, scheduling callback at\", now());\n",
       "        return null;\n",
       "      }\n",
       "      if (js_urls == null || js_urls.length === 0) {\n",
       "        run_callbacks();\n",
       "        return null;\n",
       "      }\n",
       "      console.log(\"Bokeh: BokehJS not loaded, scheduling load and callback at\", now());\n",
       "      window._bokeh_is_loading = js_urls.length;\n",
       "      for (var i = 0; i < js_urls.length; i++) {\n",
       "        var url = js_urls[i];\n",
       "        var s = document.createElement('script');\n",
       "        s.src = url;\n",
       "        s.async = false;\n",
       "        s.onreadystatechange = s.onload = function() {\n",
       "          window._bokeh_is_loading--;\n",
       "          if (window._bokeh_is_loading === 0) {\n",
       "            console.log(\"Bokeh: all BokehJS libraries loaded\");\n",
       "            run_callbacks()\n",
       "          }\n",
       "        };\n",
       "        s.onerror = function() {\n",
       "          console.warn(\"failed to load library \" + url);\n",
       "        };\n",
       "        console.log(\"Bokeh: injecting script tag for BokehJS library: \", url);\n",
       "        document.getElementsByTagName(\"head\")[0].appendChild(s);\n",
       "      }\n",
       "    };var element = document.getElementById(\"d596508e-b5a6-49cc-ad2c-de4c13d5fe76\");\n",
       "    if (element == null) {\n",
       "      console.log(\"Bokeh: ERROR: autoload.js configured with elementid 'd596508e-b5a6-49cc-ad2c-de4c13d5fe76' but no matching script tag was found. \")\n",
       "      return false;\n",
       "    }\n",
       "  \n",
       "    var js_urls = [];\n",
       "  \n",
       "    var inline_js = [\n",
       "      function(Bokeh) {\n",
       "        (function() {\n",
       "          var fn = function() {\n",
       "            var docs_json = {\"4e15d97a-a99e-45a3-ad28-0678c7f05e80\":{\"roots\":{\"references\":[{\"attributes\":{\"data_source\":{\"id\":\"2b3bf64e-e47d-4c40-bce9-ad339af54a2e\",\"type\":\"ColumnDataSource\"},\"glyph\":{\"id\":\"71314b8f-29ea-4e8b-8f0b-e4f8900d33ca\",\"type\":\"Line\"},\"hover_glyph\":null,\"nonselection_glyph\":{\"id\":\"92a267cf-7dad-4238-a35b-86e942c00bb4\",\"type\":\"Line\"},\"selection_glyph\":null},\"id\":\"a53d2243-88fa-4db5-97b2-d8c917cdda67\",\"type\":\"GlyphRenderer\"},{\"attributes\":{\"axis_label\":\"cross-entropy\",\"formatter\":{\"id\":\"b1f803f4-5381-4813-9ffe-2ff803e44002\",\"type\":\"BasicTickFormatter\"},\"plot\":{\"id\":\"02e321bb-0862-4654-ac0c-22fc2be78813\",\"subtype\":\"Figure\",\"type\":\"Plot\"},\"ticker\":{\"id\":\"d11dc26d-0b71-427c-95d6-c4ec1070b163\",\"type\":\"BasicTicker\"}},\"id\":\"b32eb30b-7095-4cf4-bd23-ea3b5de283ff\",\"type\":\"LinearAxis\"},{\"attributes\":{\"months\":[0,2,4,6,8,10]},\"id\":\"ec4c5d31-5c94-4f43-97a4-5ad1387274a7\",\"type\":\"MonthsTicker\"},{\"attributes\":{\"callback\":null,\"column_names\":[\"x\",\"y\"],\"data\":{\"x\":[],\"y\":[]}},\"id\":\"85acae5e-8427-4523-a158-ff4d5c724a36\",\"type\":\"ColumnDataSource\"},{\"attributes\":{\"days\":[1,8,15,22]},\"id\":\"aaf38a8c-5089-46c0-a5ef-23d5c15f605c\",\"type\":\"DaysTicker\"},{\"attributes\":{},\"id\":\"3b2c77a3-b294-4589-8a2b-06cccbd8510e\",\"type\":\"YearsTicker\"},{\"attributes\":{\"callback\":null,\"column_names\":[\"x\",\"y\"],\"data\":{\"x\":[],\"y\":[]}},\"id\":\"2b3bf64e-e47d-4c40-bce9-ad339af54a2e\",\"type\":\"ColumnDataSource\"},{\"attributes\":{\"line_alpha\":{\"value\":0.1},\"line_color\":{\"value\":\"#1f77b4\"},\"line_dash\":[2,4],\"x\":{\"field\":\"x\"},\"y\":{\"field\":\"y\"}},\"id\":\"30c5207d-eb34-4652-88f4-9403f58cc1d1\",\"type\":\"Line\"},{\"attributes\":{\"dimension\":1,\"plot\":{\"id\":\"02e321bb-0862-4654-ac0c-22fc2be78813\",\"subtype\":\"Figure\",\"type\":\"Plot\"},\"ticker\":{\"id\":\"d11dc26d-0b71-427c-95d6-c4ec1070b163\",\"type\":\"BasicTicker\"}},\"id\":\"de439405-a429-48fd-b7b4-925b3e3607b1\",\"type\":\"Grid\"},{\"attributes\":{\"label\":{\"value\":\"validation\"},\"renderers\":[{\"id\":\"a53d2243-88fa-4db5-97b2-d8c917cdda67\",\"type\":\"GlyphRenderer\"}]},\"id\":\"8cc8bf0c-ce95-4f34-9bb6-e2a906b33861\",\"type\":\"LegendItem\"},{\"attributes\":{\"data_source\":{\"id\":\"85acae5e-8427-4523-a158-ff4d5c724a36\",\"type\":\"ColumnDataSource\"},\"glyph\":{\"id\":\"ac240210-541a-4176-9e2f-5feae350df14\",\"type\":\"Circle\"},\"hover_glyph\":null,\"nonselection_glyph\":{\"id\":\"602fd10e-4ff5-4939-9fa9-d4d178a30c92\",\"type\":\"Circle\"},\"selection_glyph\":null},\"id\":\"a15e8236-e971-4daa-8cd9-d53f79cbd50a\",\"type\":\"GlyphRenderer\"},{\"attributes\":{\"overlay\":{\"id\":\"b6762ef9-a7c1-4244-a128-7d950a163c5a\",\"type\":\"BoxAnnotation\"},\"plot\":{\"id\":\"02e321bb-0862-4654-ac0c-22fc2be78813\",\"subtype\":\"Figure\",\"type\":\"Plot\"}},\"id\":\"abbc4c95-1208-4439-bfd3-8cb95590d861\",\"type\":\"BoxZoomTool\"},{\"attributes\":{\"months\":[0,6]},\"id\":\"0b024ee7-05ed-4ac2-ae55-9815716171de\",\"type\":\"MonthsTicker\"},{\"attributes\":{\"days\":[1,2,3,4,5,6,7,8,9,10,11,12,13,14,15,16,17,18,19,20,21,22,23,24,25,26,27,28,29,30,31]},\"id\":\"57db2899-4c73-4836-a046-ff77f43963fd\",\"type\":\"DaysTicker\"},{\"attributes\":{},\"id\":\"66ef2e21-773d-4351-bd65-b19cb2be633c\",\"type\":\"DatetimeTickFormatter\"},{\"attributes\":{\"max_interval\":500.0,\"num_minor_ticks\":0},\"id\":\"785e655b-391f-46fa-9379-59119ec4b2c2\",\"type\":\"AdaptiveTicker\"},{\"attributes\":{\"below\":[{\"id\":\"8e081af1-db9d-48d6-af09-e4a5c2fb11f3\",\"type\":\"DatetimeAxis\"}],\"left\":[{\"id\":\"b32eb30b-7095-4cf4-bd23-ea3b5de283ff\",\"type\":\"LinearAxis\"}],\"renderers\":[{\"id\":\"8e081af1-db9d-48d6-af09-e4a5c2fb11f3\",\"type\":\"DatetimeAxis\"},{\"id\":\"bab30a93-9378-4cbc-ba52-b9c30e6f2704\",\"type\":\"Grid\"},{\"id\":\"b32eb30b-7095-4cf4-bd23-ea3b5de283ff\",\"type\":\"LinearAxis\"},{\"id\":\"de439405-a429-48fd-b7b4-925b3e3607b1\",\"type\":\"Grid\"},{\"id\":\"b6762ef9-a7c1-4244-a128-7d950a163c5a\",\"type\":\"BoxAnnotation\"},{\"id\":\"aebe2473-a4da-47b8-a42d-c24b9c283437\",\"type\":\"Legend\"},{\"id\":\"e814001f-a1f6-407f-843e-9a9c099ca24b\",\"type\":\"GlyphRenderer\"},{\"id\":\"a036d28a-23df-4f0a-9f91-424e09544fc5\",\"type\":\"GlyphRenderer\"},{\"id\":\"a53d2243-88fa-4db5-97b2-d8c917cdda67\",\"type\":\"GlyphRenderer\"},{\"id\":\"a15e8236-e971-4daa-8cd9-d53f79cbd50a\",\"type\":\"GlyphRenderer\"}],\"title\":{\"id\":\"81e7e03f-8f91-4812-a5a5-04490f1a29c2\",\"type\":\"Title\"},\"tool_events\":{\"id\":\"484efbb0-d5d5-4145-9daa-6e2817bd5437\",\"type\":\"ToolEvents\"},\"toolbar\":{\"id\":\"2fe02eaf-792b-4f86-9ac7-bd4117b9fbc0\",\"type\":\"Toolbar\"},\"x_range\":{\"id\":\"27f39ccf-d72f-4770-915a-155248391fee\",\"type\":\"DataRange1d\"},\"y_range\":{\"id\":\"502ce415-7a2f-42aa-bdd1-da47ff91fa42\",\"type\":\"DataRange1d\"}},\"id\":\"02e321bb-0862-4654-ac0c-22fc2be78813\",\"subtype\":\"Figure\",\"type\":\"Plot\"},{\"attributes\":{\"plot\":{\"id\":\"02e321bb-0862-4654-ac0c-22fc2be78813\",\"subtype\":\"Figure\",\"type\":\"Plot\"}},\"id\":\"0317a858-b866-4b47-ac32-50782f2bbd38\",\"type\":\"ResetTool\"},{\"attributes\":{\"days\":[1,15]},\"id\":\"52e190bb-72ef-4241-ac5b-8e14edb3c5a1\",\"type\":\"DaysTicker\"},{\"attributes\":{\"data_source\":{\"id\":\"bcffc41d-a64f-4a2c-b525-95b660671ce6\",\"type\":\"ColumnDataSource\"},\"glyph\":{\"id\":\"f0641380-7179-4ff6-8587-5b1a48cdbeba\",\"type\":\"Line\"},\"hover_glyph\":null,\"nonselection_glyph\":{\"id\":\"30c5207d-eb34-4652-88f4-9403f58cc1d1\",\"type\":\"Line\"},\"selection_glyph\":null},\"id\":\"e814001f-a1f6-407f-843e-9a9c099ca24b\",\"type\":\"GlyphRenderer\"},{\"attributes\":{},\"id\":\"484efbb0-d5d5-4145-9daa-6e2817bd5437\",\"type\":\"ToolEvents\"},{\"attributes\":{\"days\":[1,4,7,10,13,16,19,22,25,28]},\"id\":\"72be7753-8caa-4be9-8cc1-91f4b5821d1f\",\"type\":\"DaysTicker\"},{\"attributes\":{\"num_minor_ticks\":5},\"id\":\"282a3357-fa1f-43ff-8ebe-63f895e19893\",\"type\":\"DatetimeTicker\"},{\"attributes\":{\"callback\":null,\"column_names\":[\"x\",\"y\"],\"data\":{\"x\":[],\"y\":[]}},\"id\":\"bcffc41d-a64f-4a2c-b525-95b660671ce6\",\"type\":\"ColumnDataSource\"},{\"attributes\":{\"line_alpha\":{\"value\":0.1},\"line_color\":{\"value\":\"#1f77b4\"},\"line_width\":{\"value\":2},\"x\":{\"field\":\"x\"},\"y\":{\"field\":\"y\"}},\"id\":\"92a267cf-7dad-4238-a35b-86e942c00bb4\",\"type\":\"Line\"},{\"attributes\":{\"base\":60,\"mantissas\":[1,2,5,10,15,20,30],\"max_interval\":1800000.0,\"min_interval\":1000.0,\"num_minor_ticks\":0},\"id\":\"3a3cf90b-4c8a-46e5-b45d-51d68700d053\",\"type\":\"AdaptiveTicker\"},{\"attributes\":{\"line_color\":{\"value\":\"green\"},\"line_width\":{\"value\":2},\"x\":{\"field\":\"x\"},\"y\":{\"field\":\"y\"}},\"id\":\"71314b8f-29ea-4e8b-8f0b-e4f8900d33ca\",\"type\":\"Line\"},{\"attributes\":{\"months\":[0,4,8]},\"id\":\"a8059791-9804-471a-90d0-110101b9d2fe\",\"type\":\"MonthsTicker\"},{\"attributes\":{\"plot\":{\"id\":\"02e321bb-0862-4654-ac0c-22fc2be78813\",\"subtype\":\"Figure\",\"type\":\"Plot\"}},\"id\":\"c0e2e1e1-e618-4a8f-9c39-5b19fd8b653b\",\"type\":\"SaveTool\"},{\"attributes\":{\"data_source\":{\"id\":\"a4bc564a-d600-4420-b76a-e24154358269\",\"type\":\"ColumnDataSource\"},\"glyph\":{\"id\":\"5f4fa7b6-0d18-4eae-a357-d19e456e7b35\",\"type\":\"Circle\"},\"hover_glyph\":null,\"nonselection_glyph\":{\"id\":\"cbd55911-c0a1-4077-9cc4-983a30285e19\",\"type\":\"Circle\"},\"selection_glyph\":null,\"visible\":false},\"id\":\"a036d28a-23df-4f0a-9f91-424e09544fc5\",\"type\":\"GlyphRenderer\"},{\"attributes\":{\"plot\":{\"id\":\"02e321bb-0862-4654-ac0c-22fc2be78813\",\"subtype\":\"Figure\",\"type\":\"Plot\"}},\"id\":\"65b7a04a-a525-4b43-8bfc-265254490b5a\",\"type\":\"HelpTool\"},{\"attributes\":{\"callback\":null,\"column_names\":[\"y\",\"x\"],\"data\":{\"x\":[],\"y\":[]}},\"id\":\"a4bc564a-d600-4420-b76a-e24154358269\",\"type\":\"ColumnDataSource\"},{\"attributes\":{\"plot\":{\"id\":\"02e321bb-0862-4654-ac0c-22fc2be78813\",\"subtype\":\"Figure\",\"type\":\"Plot\"},\"ticker\":{\"id\":\"282a3357-fa1f-43ff-8ebe-63f895e19893\",\"type\":\"DatetimeTicker\"}},\"id\":\"bab30a93-9378-4cbc-ba52-b9c30e6f2704\",\"type\":\"Grid\"},{\"attributes\":{\"fill_color\":{\"value\":\"#1f77b4\"},\"line_color\":{\"value\":\"green\"},\"line_width\":{\"value\":2},\"x\":{\"field\":\"x\"},\"y\":{\"field\":\"y\"}},\"id\":\"ac240210-541a-4176-9e2f-5feae350df14\",\"type\":\"Circle\"},{\"attributes\":{\"callback\":null},\"id\":\"27f39ccf-d72f-4770-915a-155248391fee\",\"type\":\"DataRange1d\"},{\"attributes\":{\"months\":[0,1,2,3,4,5,6,7,8,9,10,11]},\"id\":\"d9a385b3-27fa-4f25-85b5-d674941cf137\",\"type\":\"MonthsTicker\"},{\"attributes\":{\"plot\":{\"id\":\"02e321bb-0862-4654-ac0c-22fc2be78813\",\"subtype\":\"Figure\",\"type\":\"Plot\"}},\"id\":\"0cf4a306-0b09-4bc3-9eaa-f2ac753ba2fc\",\"type\":\"PanTool\"},{\"attributes\":{\"axis_label\":\"Training time\",\"formatter\":{\"id\":\"66ef2e21-773d-4351-bd65-b19cb2be633c\",\"type\":\"DatetimeTickFormatter\"},\"plot\":{\"id\":\"02e321bb-0862-4654-ac0c-22fc2be78813\",\"subtype\":\"Figure\",\"type\":\"Plot\"},\"ticker\":{\"id\":\"282a3357-fa1f-43ff-8ebe-63f895e19893\",\"type\":\"DatetimeTicker\"}},\"id\":\"8e081af1-db9d-48d6-af09-e4a5c2fb11f3\",\"type\":\"DatetimeAxis\"},{\"attributes\":{\"items\":[{\"id\":\"b92dad13-ac29-4ab8-85a8-352c48f1f7f5\",\"type\":\"LegendItem\"},{\"id\":\"8cc8bf0c-ce95-4f34-9bb6-e2a906b33861\",\"type\":\"LegendItem\"}],\"location\":\"bottom_right\",\"plot\":{\"id\":\"02e321bb-0862-4654-ac0c-22fc2be78813\",\"subtype\":\"Figure\",\"type\":\"Plot\"}},\"id\":\"aebe2473-a4da-47b8-a42d-c24b9c283437\",\"type\":\"Legend\"},{\"attributes\":{\"line_alpha\":{\"value\":0.3},\"line_color\":{\"value\":\"#1f77b4\"},\"line_dash\":[2,4],\"x\":{\"field\":\"x\"},\"y\":{\"field\":\"y\"}},\"id\":\"f0641380-7179-4ff6-8587-5b1a48cdbeba\",\"type\":\"Line\"},{\"attributes\":{},\"id\":\"d11dc26d-0b71-427c-95d6-c4ec1070b163\",\"type\":\"BasicTicker\"},{\"attributes\":{\"plot\":null,\"text\":\"\"},\"id\":\"81e7e03f-8f91-4812-a5a5-04490f1a29c2\",\"type\":\"Title\"},{\"attributes\":{\"fill_alpha\":{\"value\":0.1},\"fill_color\":{\"value\":\"#1f77b4\"},\"line_alpha\":{\"value\":0.1},\"line_color\":{\"value\":\"#1f77b4\"},\"size\":{\"units\":\"screen\",\"value\":1.5},\"x\":{\"field\":\"x\"},\"y\":{\"field\":\"y\"}},\"id\":\"cbd55911-c0a1-4077-9cc4-983a30285e19\",\"type\":\"Circle\"},{\"attributes\":{\"callback\":null},\"id\":\"502ce415-7a2f-42aa-bdd1-da47ff91fa42\",\"type\":\"DataRange1d\"},{\"attributes\":{\"base\":24,\"mantissas\":[1,2,4,6,8,12],\"max_interval\":43200000.0,\"min_interval\":3600000.0,\"num_minor_ticks\":0},\"id\":\"2f040948-2af3-4973-8337-70f7e0af2ca3\",\"type\":\"AdaptiveTicker\"},{\"attributes\":{\"label\":{\"value\":\"train\"},\"renderers\":[{\"id\":\"e814001f-a1f6-407f-843e-9a9c099ca24b\",\"type\":\"GlyphRenderer\"},{\"id\":\"a036d28a-23df-4f0a-9f91-424e09544fc5\",\"type\":\"GlyphRenderer\"}]},\"id\":\"b92dad13-ac29-4ab8-85a8-352c48f1f7f5\",\"type\":\"LegendItem\"},{\"attributes\":{\"fill_alpha\":{\"value\":0.1},\"fill_color\":{\"value\":\"#1f77b4\"},\"line_alpha\":{\"value\":0.1},\"line_color\":{\"value\":\"#1f77b4\"},\"line_width\":{\"value\":2},\"x\":{\"field\":\"x\"},\"y\":{\"field\":\"y\"}},\"id\":\"602fd10e-4ff5-4939-9fa9-d4d178a30c92\",\"type\":\"Circle\"},{\"attributes\":{\"active_drag\":\"auto\",\"active_scroll\":\"auto\",\"active_tap\":\"auto\",\"tools\":[{\"id\":\"0cf4a306-0b09-4bc3-9eaa-f2ac753ba2fc\",\"type\":\"PanTool\"},{\"id\":\"b9e66b28-fad2-4151-a145-291e71f27e13\",\"type\":\"WheelZoomTool\"},{\"id\":\"abbc4c95-1208-4439-bfd3-8cb95590d861\",\"type\":\"BoxZoomTool\"},{\"id\":\"c0e2e1e1-e618-4a8f-9c39-5b19fd8b653b\",\"type\":\"SaveTool\"},{\"id\":\"0317a858-b866-4b47-ac32-50782f2bbd38\",\"type\":\"ResetTool\"},{\"id\":\"65b7a04a-a525-4b43-8bfc-265254490b5a\",\"type\":\"HelpTool\"}]},\"id\":\"2fe02eaf-792b-4f86-9ac7-bd4117b9fbc0\",\"type\":\"Toolbar\"},{\"attributes\":{\"bottom_units\":\"screen\",\"fill_alpha\":{\"value\":0.5},\"fill_color\":{\"value\":\"lightgrey\"},\"left_units\":\"screen\",\"level\":\"overlay\",\"line_alpha\":{\"value\":1.0},\"line_color\":{\"value\":\"black\"},\"line_dash\":[4,4],\"line_width\":{\"value\":2},\"plot\":null,\"render_mode\":\"css\",\"right_units\":\"screen\",\"top_units\":\"screen\"},\"id\":\"b6762ef9-a7c1-4244-a128-7d950a163c5a\",\"type\":\"BoxAnnotation\"},{\"attributes\":{\"plot\":{\"id\":\"02e321bb-0862-4654-ac0c-22fc2be78813\",\"subtype\":\"Figure\",\"type\":\"Plot\"}},\"id\":\"b9e66b28-fad2-4151-a145-291e71f27e13\",\"type\":\"WheelZoomTool\"},{\"attributes\":{},\"id\":\"b1f803f4-5381-4813-9ffe-2ff803e44002\",\"type\":\"BasicTickFormatter\"},{\"attributes\":{\"fill_alpha\":{\"value\":0.3},\"fill_color\":{\"value\":\"#1f77b4\"},\"line_alpha\":{\"value\":0.3},\"line_color\":{\"value\":\"#1f77b4\"},\"size\":{\"units\":\"screen\",\"value\":1.5},\"x\":{\"field\":\"x\"},\"y\":{\"field\":\"y\"}},\"id\":\"5f4fa7b6-0d18-4eae-a357-d19e456e7b35\",\"type\":\"Circle\"}],\"root_ids\":[\"02e321bb-0862-4654-ac0c-22fc2be78813\"]},\"title\":\"Bokeh Application\",\"version\":\"0.12.4\"}};\n",
       "            var render_items = [{\"docid\":\"4e15d97a-a99e-45a3-ad28-0678c7f05e80\",\"elementid\":\"d596508e-b5a6-49cc-ad2c-de4c13d5fe76\",\"modelid\":\"02e321bb-0862-4654-ac0c-22fc2be78813\",\"notebook_comms_target\":\"98545504-6d5c-42cf-94d4-984e653361e4\"}];\n",
       "            \n",
       "            Bokeh.embed.embed_items(docs_json, render_items);\n",
       "          };\n",
       "          if (document.readyState != \"loading\") fn();\n",
       "          else document.addEventListener(\"DOMContentLoaded\", fn);\n",
       "        })();\n",
       "      },\n",
       "      function(Bokeh) {\n",
       "      }\n",
       "    ];\n",
       "  \n",
       "    function run_inline_js() {\n",
       "      \n",
       "      if ((window.Bokeh !== undefined) || (force === true)) {\n",
       "        for (var i = 0; i < inline_js.length; i++) {\n",
       "          inline_js[i](window.Bokeh);\n",
       "        }if (force === true) {\n",
       "          display_loaded();\n",
       "        }} else if (Date.now() < window._bokeh_timeout) {\n",
       "        setTimeout(run_inline_js, 100);\n",
       "      } else if (!window._bokeh_failed_load) {\n",
       "        console.log(\"Bokeh: BokehJS failed to load within specified timeout.\");\n",
       "        window._bokeh_failed_load = true;\n",
       "      } else if (force !== true) {\n",
       "        var cell = $(document.getElementById(\"d596508e-b5a6-49cc-ad2c-de4c13d5fe76\")).parents('.cell').data().cell;\n",
       "        cell.output_area.append_execute_result(NB_LOAD_WARNING)\n",
       "      }\n",
       "  \n",
       "    }\n",
       "  \n",
       "    if (window._bokeh_is_loading === 0) {\n",
       "      console.log(\"Bokeh: BokehJS loaded, going straight to plotting\");\n",
       "      run_inline_js();\n",
       "    } else {\n",
       "      load_libs(js_urls, function() {\n",
       "        console.log(\"Bokeh: BokehJS plotting callback run at\", now());\n",
       "        run_inline_js();\n",
       "      });\n",
       "    }\n",
       "  }(this));\n",
       "</script>"
      ]
     },
     "metadata": {},
     "output_type": "display_data"
    }
   ],
   "source": [
    "from mxnet.notebook.callback import LiveLearningCurve\n",
    "cb_args = LiveLearningCurve(metric_name='cross-entropy',frequent=10,display_freq=5).callback_args()"
   ]
  },
  {
   "cell_type": "code",
   "execution_count": 14,
   "metadata": {
    "collapsed": false,
    "deletable": true,
    "editable": true
   },
   "outputs": [
    {
     "data": {
      "text/plain": [
       "{'batch_end_callback': <bound method LiveLearningCurve.batch_cb of <mxnet.notebook.callback.LiveLearningCurve object at 0x7f5f511196d0>>,\n",
       " 'eval_end_callback': <bound method LiveLearningCurve.eval_cb of <mxnet.notebook.callback.LiveLearningCurve object at 0x7f5f511196d0>>}"
      ]
     },
     "execution_count": 14,
     "metadata": {},
     "output_type": "execute_result"
    }
   ],
   "source": [
    "cb_args"
   ]
  },
  {
   "cell_type": "code",
   "execution_count": 15,
   "metadata": {
    "collapsed": false,
    "deletable": true,
    "editable": true
   },
   "outputs": [
    {
     "name": "stderr",
     "output_type": "stream",
     "text": [
      "/usr/local/lib/python2.7/dist-packages/mxnet-0.9.5-py2.7.egg/mxnet/module/base_module.py:465: UserWarning: Optimizer created manually outside Module but rescale_grad is not normalized to 1.0/batch_size/num_workers (1.0 vs. 0.03125). Is this intended?\n",
      "  optimizer_params=optimizer_params)\n",
      "INFO:root:Epoch[0] Train-cross-entropy=0.293430\n",
      "INFO:root:Epoch[0] Time cost=63.336\n",
      "INFO:root:Epoch[0] Validation-cross-entropy=0.364684\n",
      "INFO:root:Epoch[1] Train-cross-entropy=0.201846\n",
      "INFO:root:Epoch[1] Time cost=61.222\n",
      "INFO:root:Epoch[1] Validation-cross-entropy=0.442820\n"
     ]
    }
   ],
   "source": [
    "model.fit(\n",
    "        train_data          = train_set,\n",
    "        eval_data           = valid_set,\n",
    "        eval_metric         = mx.metric.CrossEntropy(),\n",
    "        optimizer           = mx.optimizer.AdaGrad(),\n",
    "        optimizer_params    = {'learning_rate': 0.0002},\n",
    "        initializer         = mx.init.Xavier(),\n",
    "        num_epoch           = 2,\n",
    "        batch_end_callback  = cb_args['batch_end_callback'])"
   ]
  },
  {
   "cell_type": "code",
   "execution_count": 16,
   "metadata": {
    "collapsed": false,
    "deletable": true,
    "editable": true
   },
   "outputs": [
    {
     "data": {
      "text/plain": [
       "<mxnet.module.module.Module at 0x7f5f51155a90>"
      ]
     },
     "execution_count": 16,
     "metadata": {},
     "output_type": "execute_result"
    }
   ],
   "source": [
    "model"
   ]
  },
  {
   "cell_type": "code",
   "execution_count": 17,
   "metadata": {
    "collapsed": false,
    "deletable": true,
    "editable": true
   },
   "outputs": [
    {
     "data": {
      "text/plain": [
       "[('accuracy', 0.8645833333333334)]"
      ]
     },
     "execution_count": 17,
     "metadata": {},
     "output_type": "execute_result"
    }
   ],
   "source": [
    "model.score(valid_set, mx.metric.Accuracy())"
   ]
  }
 ],
 "metadata": {
  "kernelspec": {
   "display_name": "Python 2",
   "language": "python",
   "name": "python2"
  },
  "language_info": {
   "codemirror_mode": {
    "name": "ipython",
    "version": 2
   },
   "file_extension": ".py",
   "mimetype": "text/x-python",
   "name": "python",
   "nbconvert_exporter": "python",
   "pygments_lexer": "ipython2",
   "version": "2.7.6"
  }
 },
 "nbformat": 4,
 "nbformat_minor": 2
}
