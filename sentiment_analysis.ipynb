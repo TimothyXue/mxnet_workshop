{
 "cells": [
  {
   "cell_type": "markdown",
   "metadata": {},
   "source": [
    "Note: Each of the code cells can be run by selecting that cell and pressing `SHIFT+ENTER`. To restart the notebook, you can select in the menu above Kernel -> Restart & Clear Output."
   ]
  },
  {
   "cell_type": "markdown",
   "metadata": {},
   "source": [
    "## Sentiment Analysis of Movie Reviews\n",
    "\n",
    "\n",
    "In this exercise, we will write a model to analyze movie reviews on IMDB and decide if they are positive or negative reviews.\n",
    "\n",
    "The IMDB dataset consists of 25,000 reviews, each with a binary label (1 = positive, 0 = negative).\n",
    "\n",
    "Here is an example of a POSITIVE review:\n",
    "\n",
    "> \"The pace is steady and constant, the characters full and engaging, the relationships and interactions natural showing that you do not need floods of tears to show emotion, screams to show fear, shouting to show dispute or violence to show anger. Naturally Joyce's short story lends the film a ready made structure as perfect as a polished diamond, but the small changes Huston makes such as the inclusion of the poem fit in neatly. It is truly a masterpiece of tact, subtlety and overwhelming beauty.\"\n",
    "\n",
    "Here is an example of a NEGATIVE review:\n",
    "\n",
    "> \"Beautiful attracts excellent idea, but ruined with a bad selection of the actors. The main character is a loser and his woman friend and his friend upset viewers. Apart from the first episode all the other become more boring and boring. First, it considers it illogical behavior. No one normal would not behave the way the main character behaves. It all represents a typical Halmark way to endear viewers to the reduced amount of intelligence. Does such a scenario, or the casting director and destroy this question is on Halmark producers. Cat is the main character is wonderful. The main character behaves according to his friend selfish.\""
   ]
  },
  {
   "cell_type": "markdown",
   "metadata": {},
   "source": [
    "1. Setup\n",
    "--------\n",
    "\n",
    "We first import the packages we need to run this script."
   ]
  },
  {
   "cell_type": "code",
   "execution_count": 1,
   "metadata": {
    "collapsed": true
   },
   "outputs": [],
   "source": [
    "import mxnet as mx\n",
    "import numpy as np\n",
    "import logging\n",
    "import imdb as IMDB\n",
    "import warnings\n",
    "warnings.filterwarnings(\"ignore\", category=DeprecationWarning) "
   ]
  },
  {
   "cell_type": "markdown",
   "metadata": {},
   "source": [
    "2. Dataset\n",
    "----------\n",
    "\n",
    "We have to preprocess the dataset to convert the words into numbers. We take our vocabularly of words, and assign a number to each word. For example, a sentence such as:\n",
    "\n",
    "> \"Hello world, my name is Intel and my location is Santa Clara\"\n",
    "\n",
    "Will be converted to list of 6 numbers:\n",
    "\n",
    "> [24, 784, 4, 98, 22, 143, 15, 4, 314, 22, 488, 2894] \n",
    "\n",
    "We already done this for you, and is loaded in the code below:"
   ]
  },
  {
   "cell_type": "code",
   "execution_count": 2,
   "metadata": {
    "collapsed": true
   },
   "outputs": [],
   "source": [
    "imdb = IMDB.IMDB()"
   ]
  },
  {
   "cell_type": "markdown",
   "metadata": {},
   "source": [
    "3. Build the Model\n",
    "-----------------\n",
    "\n",
    "The network consists of list of the following layers:\n",
    "\n",
    "1. `Embedding` transforms each word into a vector of numbers. \n",
    "2. `LSTMCell` is a recurrent layer with “long short-term memory” units. LSTM networks are good at learning temporal dependencies in the data.\n",
    "3. `sum` sums the activations over the time\n",
    "3. `Dropout` randomly silences a subset of the units during training.\n",
    "4. `FullyConnected` is a layer with two outputs, for the two target classes.\n",
    "\n",
    "Below we construct the graph of operations by first creating placeholders for the input data."
   ]
  },
  {
   "cell_type": "code",
   "execution_count": 3,
   "metadata": {
    "collapsed": true
   },
   "outputs": [],
   "source": [
    "data = mx.sym.Variable('data')\n",
    "label = mx.sym.Variable('softmax_label')\n",
    "label = mx.sym.Reshape(data=label, shape=(-1,))"
   ]
  },
  {
   "cell_type": "markdown",
   "metadata": {},
   "source": [
    "Then, we generate our graph by passing the data through the layers of the network, starting with the embedding layer:"
   ]
  },
  {
   "cell_type": "code",
   "execution_count": 4,
   "metadata": {
    "collapsed": true
   },
   "outputs": [],
   "source": [
    "net = mx.sym.Embedding(data=data, input_dim=20000, output_dim=128, name='embed')"
   ]
  },
  {
   "cell_type": "markdown",
   "metadata": {},
   "source": [
    "For the LSTM layer, we unroll the layer over time, then pass the outputs to the rest of the network."
   ]
  },
  {
   "cell_type": "code",
   "execution_count": 5,
   "metadata": {
    "collapsed": true
   },
   "outputs": [],
   "source": [
    "lstm_cell = mx.rnn.LSTMCell(num_hidden=64)\n",
    "net, _ = lstm_cell.unroll(length=128, inputs=net, merge_outputs=True)\n",
    "net = mx.sym.sum(data=net, axis=1)\n",
    "net = mx.sym.Dropout(data=net, p=0.5)\n",
    "net = mx.sym.FullyConnected(data=net, num_hidden=2)\n",
    "net = mx.sym.SoftmaxOutput(data=net, label=label, name='softmax')\n",
    "\n",
    "init = mx.init.Mixed(patterns=['embed', '.*'], \n",
    "                     initializers= [mx.init.Uniform(scale=1/128), mx.init.Xavier()])"
   ]
  },
  {
   "cell_type": "markdown",
   "metadata": {},
   "source": [
    "Next, we use the Module API, which providers helper functions to train the model."
   ]
  },
  {
   "cell_type": "code",
   "execution_count": 6,
   "metadata": {
    "collapsed": true
   },
   "outputs": [],
   "source": [
    "model = mx.mod.Module(net, context=mx.cpu(0))"
   ]
  },
  {
   "cell_type": "markdown",
   "metadata": {},
   "source": [
    "Callbacks allow the model to report its progress during the course of training. Here we tell MXNET to plot a graph with the cost."
   ]
  },
  {
   "cell_type": "code",
   "execution_count": 7,
   "metadata": {},
   "outputs": [
    {
     "data": {
      "text/html": [
       "\n",
       "    <div class=\"bk-root\">\n",
       "        <a href=\"http://bokeh.pydata.org\" target=\"_blank\" class=\"bk-logo bk-logo-small bk-logo-notebook\"></a>\n",
       "        <span id=\"80ce8098-8202-496c-80c1-88a1f4f06a42\">Loading BokehJS ...</span>\n",
       "    </div>"
      ]
     },
     "metadata": {},
     "output_type": "display_data"
    },
    {
     "data": {
      "application/javascript": [
       "\n",
       "(function(global) {\n",
       "  function now() {\n",
       "    return new Date();\n",
       "  }\n",
       "\n",
       "  var force = true;\n",
       "\n",
       "  if (typeof (window._bokeh_onload_callbacks) === \"undefined\" || force === true) {\n",
       "    window._bokeh_onload_callbacks = [];\n",
       "    window._bokeh_is_loading = undefined;\n",
       "  }\n",
       "\n",
       "\n",
       "  \n",
       "  if (typeof (window._bokeh_timeout) === \"undefined\" || force === true) {\n",
       "    window._bokeh_timeout = Date.now() + 5000;\n",
       "    window._bokeh_failed_load = false;\n",
       "  }\n",
       "\n",
       "  var NB_LOAD_WARNING = {'data': {'text/html':\n",
       "     \"<div style='background-color: #fdd'>\\n\"+\n",
       "     \"<p>\\n\"+\n",
       "     \"BokehJS does not appear to have successfully loaded. If loading BokehJS from CDN, this \\n\"+\n",
       "     \"may be due to a slow or bad network connection. Possible fixes:\\n\"+\n",
       "     \"</p>\\n\"+\n",
       "     \"<ul>\\n\"+\n",
       "     \"<li>re-rerun `output_notebook()` to attempt to load from CDN again, or</li>\\n\"+\n",
       "     \"<li>use INLINE resources instead, as so:</li>\\n\"+\n",
       "     \"</ul>\\n\"+\n",
       "     \"<code>\\n\"+\n",
       "     \"from bokeh.resources import INLINE\\n\"+\n",
       "     \"output_notebook(resources=INLINE)\\n\"+\n",
       "     \"</code>\\n\"+\n",
       "     \"</div>\"}};\n",
       "\n",
       "  function display_loaded() {\n",
       "    if (window.Bokeh !== undefined) {\n",
       "      var el = document.getElementById(\"80ce8098-8202-496c-80c1-88a1f4f06a42\");\n",
       "      el.textContent = \"BokehJS \" + Bokeh.version + \" successfully loaded.\";\n",
       "    } else if (Date.now() < window._bokeh_timeout) {\n",
       "      setTimeout(display_loaded, 100)\n",
       "    }\n",
       "  }\n",
       "\n",
       "  function run_callbacks() {\n",
       "    window._bokeh_onload_callbacks.forEach(function(callback) { callback() });\n",
       "    delete window._bokeh_onload_callbacks\n",
       "    console.info(\"Bokeh: all callbacks have finished\");\n",
       "  }\n",
       "\n",
       "  function load_libs(js_urls, callback) {\n",
       "    window._bokeh_onload_callbacks.push(callback);\n",
       "    if (window._bokeh_is_loading > 0) {\n",
       "      console.log(\"Bokeh: BokehJS is being loaded, scheduling callback at\", now());\n",
       "      return null;\n",
       "    }\n",
       "    if (js_urls == null || js_urls.length === 0) {\n",
       "      run_callbacks();\n",
       "      return null;\n",
       "    }\n",
       "    console.log(\"Bokeh: BokehJS not loaded, scheduling load and callback at\", now());\n",
       "    window._bokeh_is_loading = js_urls.length;\n",
       "    for (var i = 0; i < js_urls.length; i++) {\n",
       "      var url = js_urls[i];\n",
       "      var s = document.createElement('script');\n",
       "      s.src = url;\n",
       "      s.async = false;\n",
       "      s.onreadystatechange = s.onload = function() {\n",
       "        window._bokeh_is_loading--;\n",
       "        if (window._bokeh_is_loading === 0) {\n",
       "          console.log(\"Bokeh: all BokehJS libraries loaded\");\n",
       "          run_callbacks()\n",
       "        }\n",
       "      };\n",
       "      s.onerror = function() {\n",
       "        console.warn(\"failed to load library \" + url);\n",
       "      };\n",
       "      console.log(\"Bokeh: injecting script tag for BokehJS library: \", url);\n",
       "      document.getElementsByTagName(\"head\")[0].appendChild(s);\n",
       "    }\n",
       "  };var element = document.getElementById(\"80ce8098-8202-496c-80c1-88a1f4f06a42\");\n",
       "  if (element == null) {\n",
       "    console.log(\"Bokeh: ERROR: autoload.js configured with elementid '80ce8098-8202-496c-80c1-88a1f4f06a42' but no matching script tag was found. \")\n",
       "    return false;\n",
       "  }\n",
       "\n",
       "  var js_urls = [\"https://cdn.pydata.org/bokeh/release/bokeh-0.12.5.min.js\", \"https://cdn.pydata.org/bokeh/release/bokeh-widgets-0.12.5.min.js\"];\n",
       "\n",
       "  var inline_js = [\n",
       "    function(Bokeh) {\n",
       "      Bokeh.set_log_level(\"info\");\n",
       "    },\n",
       "    \n",
       "    function(Bokeh) {\n",
       "      \n",
       "    },\n",
       "    \n",
       "    function(Bokeh) {\n",
       "      \n",
       "      document.getElementById(\"80ce8098-8202-496c-80c1-88a1f4f06a42\").textContent = \"BokehJS is loading...\";\n",
       "    },\n",
       "    function(Bokeh) {\n",
       "      console.log(\"Bokeh: injecting CSS: https://cdn.pydata.org/bokeh/release/bokeh-0.12.5.min.css\");\n",
       "      Bokeh.embed.inject_css(\"https://cdn.pydata.org/bokeh/release/bokeh-0.12.5.min.css\");\n",
       "      console.log(\"Bokeh: injecting CSS: https://cdn.pydata.org/bokeh/release/bokeh-widgets-0.12.5.min.css\");\n",
       "      Bokeh.embed.inject_css(\"https://cdn.pydata.org/bokeh/release/bokeh-widgets-0.12.5.min.css\");\n",
       "    }\n",
       "  ];\n",
       "\n",
       "  function run_inline_js() {\n",
       "    \n",
       "    if ((window.Bokeh !== undefined) || (force === true)) {\n",
       "      for (var i = 0; i < inline_js.length; i++) {\n",
       "        inline_js[i](window.Bokeh);\n",
       "      }if (force === true) {\n",
       "        display_loaded();\n",
       "      }} else if (Date.now() < window._bokeh_timeout) {\n",
       "      setTimeout(run_inline_js, 100);\n",
       "    } else if (!window._bokeh_failed_load) {\n",
       "      console.log(\"Bokeh: BokehJS failed to load within specified timeout.\");\n",
       "      window._bokeh_failed_load = true;\n",
       "    } else if (force !== true) {\n",
       "      var cell = $(document.getElementById(\"80ce8098-8202-496c-80c1-88a1f4f06a42\")).parents('.cell').data().cell;\n",
       "      cell.output_area.append_execute_result(NB_LOAD_WARNING)\n",
       "    }\n",
       "\n",
       "  }\n",
       "\n",
       "  if (window._bokeh_is_loading === 0) {\n",
       "    console.log(\"Bokeh: BokehJS loaded, going straight to plotting\");\n",
       "    run_inline_js();\n",
       "  } else {\n",
       "    load_libs(js_urls, function() {\n",
       "      console.log(\"Bokeh: BokehJS plotting callback run at\", now());\n",
       "      run_inline_js();\n",
       "    });\n",
       "  }\n",
       "}(this));"
      ]
     },
     "metadata": {},
     "output_type": "display_data"
    }
   ],
   "source": [
    "from VisCostCallback import CostVisCallback\n",
    "\n",
    "callbacks = CostVisCallback(nepochs=2.0, y_range=(0, 4.5), total_batches=156)"
   ]
  },
  {
   "cell_type": "markdown",
   "metadata": {},
   "source": [
    "5. Train the model.\n",
    "------------\n",
    "Now are ready to train the model. To train the model, we call the `fit()` function and pass in the training set, and other settings. Here we train for 2 epochs, meaning two rounds through the dataset."
   ]
  },
  {
   "cell_type": "code",
   "execution_count": 8,
   "metadata": {
    "scrolled": true
   },
   "outputs": [
    {
     "data": {
      "text/html": [
       "\n",
       "\n",
       "    <div class=\"bk-root\">\n",
       "        <div class=\"bk-plotdiv\" id=\"26cc8541-aedf-42be-a027-36cf43c33074\"></div>\n",
       "    </div>\n",
       "<script type=\"text/javascript\">\n",
       "  \n",
       "  (function(global) {\n",
       "    function now() {\n",
       "      return new Date();\n",
       "    }\n",
       "  \n",
       "    var force = false;\n",
       "  \n",
       "    if (typeof (window._bokeh_onload_callbacks) === \"undefined\" || force === true) {\n",
       "      window._bokeh_onload_callbacks = [];\n",
       "      window._bokeh_is_loading = undefined;\n",
       "    }\n",
       "  \n",
       "  \n",
       "    \n",
       "    if (typeof (window._bokeh_timeout) === \"undefined\" || force === true) {\n",
       "      window._bokeh_timeout = Date.now() + 0;\n",
       "      window._bokeh_failed_load = false;\n",
       "    }\n",
       "  \n",
       "    var NB_LOAD_WARNING = {'data': {'text/html':\n",
       "       \"<div style='background-color: #fdd'>\\n\"+\n",
       "       \"<p>\\n\"+\n",
       "       \"BokehJS does not appear to have successfully loaded. If loading BokehJS from CDN, this \\n\"+\n",
       "       \"may be due to a slow or bad network connection. Possible fixes:\\n\"+\n",
       "       \"</p>\\n\"+\n",
       "       \"<ul>\\n\"+\n",
       "       \"<li>re-rerun `output_notebook()` to attempt to load from CDN again, or</li>\\n\"+\n",
       "       \"<li>use INLINE resources instead, as so:</li>\\n\"+\n",
       "       \"</ul>\\n\"+\n",
       "       \"<code>\\n\"+\n",
       "       \"from bokeh.resources import INLINE\\n\"+\n",
       "       \"output_notebook(resources=INLINE)\\n\"+\n",
       "       \"</code>\\n\"+\n",
       "       \"</div>\"}};\n",
       "  \n",
       "    function display_loaded() {\n",
       "      if (window.Bokeh !== undefined) {\n",
       "        var el = document.getElementById(\"26cc8541-aedf-42be-a027-36cf43c33074\");\n",
       "        el.textContent = \"BokehJS \" + Bokeh.version + \" successfully loaded.\";\n",
       "      } else if (Date.now() < window._bokeh_timeout) {\n",
       "        setTimeout(display_loaded, 100)\n",
       "      }\n",
       "    }if ((window.Jupyter !== undefined) && Jupyter.notebook.kernel) {\n",
       "      comm_manager = Jupyter.notebook.kernel.comm_manager\n",
       "      comm_manager.register_target(\"21157477-dd25-4853-9834-eda80c125318\", function () {});\n",
       "    }\n",
       "  \n",
       "    function run_callbacks() {\n",
       "      window._bokeh_onload_callbacks.forEach(function(callback) { callback() });\n",
       "      delete window._bokeh_onload_callbacks\n",
       "      console.info(\"Bokeh: all callbacks have finished\");\n",
       "    }\n",
       "  \n",
       "    function load_libs(js_urls, callback) {\n",
       "      window._bokeh_onload_callbacks.push(callback);\n",
       "      if (window._bokeh_is_loading > 0) {\n",
       "        console.log(\"Bokeh: BokehJS is being loaded, scheduling callback at\", now());\n",
       "        return null;\n",
       "      }\n",
       "      if (js_urls == null || js_urls.length === 0) {\n",
       "        run_callbacks();\n",
       "        return null;\n",
       "      }\n",
       "      console.log(\"Bokeh: BokehJS not loaded, scheduling load and callback at\", now());\n",
       "      window._bokeh_is_loading = js_urls.length;\n",
       "      for (var i = 0; i < js_urls.length; i++) {\n",
       "        var url = js_urls[i];\n",
       "        var s = document.createElement('script');\n",
       "        s.src = url;\n",
       "        s.async = false;\n",
       "        s.onreadystatechange = s.onload = function() {\n",
       "          window._bokeh_is_loading--;\n",
       "          if (window._bokeh_is_loading === 0) {\n",
       "            console.log(\"Bokeh: all BokehJS libraries loaded\");\n",
       "            run_callbacks()\n",
       "          }\n",
       "        };\n",
       "        s.onerror = function() {\n",
       "          console.warn(\"failed to load library \" + url);\n",
       "        };\n",
       "        console.log(\"Bokeh: injecting script tag for BokehJS library: \", url);\n",
       "        document.getElementsByTagName(\"head\")[0].appendChild(s);\n",
       "      }\n",
       "    };var element = document.getElementById(\"26cc8541-aedf-42be-a027-36cf43c33074\");\n",
       "    if (element == null) {\n",
       "      console.log(\"Bokeh: ERROR: autoload.js configured with elementid '26cc8541-aedf-42be-a027-36cf43c33074' but no matching script tag was found. \")\n",
       "      return false;\n",
       "    }\n",
       "  \n",
       "    var js_urls = [];\n",
       "  \n",
       "    var inline_js = [\n",
       "      function(Bokeh) {\n",
       "        (function() {\n",
       "          var fn = function() {\n",
       "            var docs_json = {\"95e51e22-57f7-49d1-8d2e-2eb43d104376\":{\"roots\":{\"references\":[{\"attributes\":{},\"id\":\"638a632c-b005-48fb-81ed-fa05255eb2fb\",\"type\":\"BasicTickFormatter\"},{\"attributes\":{\"plot\":{\"id\":\"d5caaaf8-5980-4003-87f8-1ec20eb12933\",\"subtype\":\"Figure\",\"type\":\"Plot\"}},\"id\":\"98091625-2991-4491-b041-68360f0c6a89\",\"type\":\"SaveTool\"},{\"attributes\":{},\"id\":\"462fadc5-3075-4c82-89bd-adb47bee31bb\",\"type\":\"BasicTickFormatter\"},{\"attributes\":{\"plot\":{\"id\":\"d5caaaf8-5980-4003-87f8-1ec20eb12933\",\"subtype\":\"Figure\",\"type\":\"Plot\"}},\"id\":\"eee42063-229c-44f1-9f57-7869f6790a27\",\"type\":\"PanTool\"},{\"attributes\":{\"plot\":{\"id\":\"d5caaaf8-5980-4003-87f8-1ec20eb12933\",\"subtype\":\"Figure\",\"type\":\"Plot\"}},\"id\":\"a95aab98-d8c1-4845-8f38-ee7c8dcb3f87\",\"type\":\"ResetTool\"},{\"attributes\":{\"callback\":null,\"end\":2.0},\"id\":\"07a8f031-4b0f-4f9b-a9f1-6c3df2fe2055\",\"type\":\"Range1d\"},{\"attributes\":{\"callback\":null,\"column_names\":[\"y\",\"x\"],\"data\":{\"x\":[],\"y\":[]}},\"id\":\"707ba096-8f5d-480f-ad9a-96888d782213\",\"type\":\"ColumnDataSource\"},{\"attributes\":{\"line_color\":{\"value\":\"red\"},\"x\":{\"field\":\"x\"},\"y\":{\"field\":\"y\"}},\"id\":\"c4d874c0-4c26-4dc2-b730-15ef8cbf3f13\",\"type\":\"Line\"},{\"attributes\":{},\"id\":\"31da7ccf-8d3d-4ee2-ac12-25603b42ce24\",\"type\":\"BasicTicker\"},{\"attributes\":{\"line_color\":{\"value\":\"#1f77b4\"},\"x\":{\"field\":\"x\"},\"y\":{\"field\":\"y\"}},\"id\":\"bea2e8d5-4acd-4aca-8207-9e1c8f62dbad\",\"type\":\"Line\"},{\"attributes\":{\"axis_label\":\"Cost\",\"formatter\":{\"id\":\"638a632c-b005-48fb-81ed-fa05255eb2fb\",\"type\":\"BasicTickFormatter\"},\"plot\":{\"id\":\"d5caaaf8-5980-4003-87f8-1ec20eb12933\",\"subtype\":\"Figure\",\"type\":\"Plot\"},\"ticker\":{\"id\":\"31da7ccf-8d3d-4ee2-ac12-25603b42ce24\",\"type\":\"BasicTicker\"}},\"id\":\"98e34e36-f165-4e43-b761-5f02aa2ab97a\",\"type\":\"LinearAxis\"},{\"attributes\":{\"data_source\":{\"id\":\"707ba096-8f5d-480f-ad9a-96888d782213\",\"type\":\"ColumnDataSource\"},\"glyph\":{\"id\":\"c4d874c0-4c26-4dc2-b730-15ef8cbf3f13\",\"type\":\"Line\"},\"hover_glyph\":null,\"muted_glyph\":null,\"nonselection_glyph\":{\"id\":\"5ce67674-ba27-4507-ab63-e73b4f207868\",\"type\":\"Line\"},\"selection_glyph\":null},\"id\":\"f4d267c2-78c4-4ec8-93a8-1009a1e2341f\",\"type\":\"GlyphRenderer\"},{\"attributes\":{\"bottom_units\":\"screen\",\"fill_alpha\":{\"value\":0.5},\"fill_color\":{\"value\":\"lightgrey\"},\"left_units\":\"screen\",\"level\":\"overlay\",\"line_alpha\":{\"value\":1.0},\"line_color\":{\"value\":\"black\"},\"line_dash\":[4,4],\"line_width\":{\"value\":2},\"plot\":null,\"render_mode\":\"css\",\"right_units\":\"screen\",\"top_units\":\"screen\"},\"id\":\"abc84963-b2f1-4c2b-82a8-4de56e3a516c\",\"type\":\"BoxAnnotation\"},{\"attributes\":{\"overlay\":{\"id\":\"abc84963-b2f1-4c2b-82a8-4de56e3a516c\",\"type\":\"BoxAnnotation\"},\"plot\":{\"id\":\"d5caaaf8-5980-4003-87f8-1ec20eb12933\",\"subtype\":\"Figure\",\"type\":\"Plot\"}},\"id\":\"32358395-804f-478a-8fc0-5c20a9eead40\",\"type\":\"BoxZoomTool\"},{\"attributes\":{\"plot\":{\"id\":\"d5caaaf8-5980-4003-87f8-1ec20eb12933\",\"subtype\":\"Figure\",\"type\":\"Plot\"},\"ticker\":{\"id\":\"8aecbe09-9664-42e5-b135-a8af59f5e947\",\"type\":\"BasicTicker\"}},\"id\":\"088756d7-d5a1-4dfe-872b-d8f19ec8c989\",\"type\":\"Grid\"},{\"attributes\":{\"dimension\":1,\"plot\":{\"id\":\"d5caaaf8-5980-4003-87f8-1ec20eb12933\",\"subtype\":\"Figure\",\"type\":\"Plot\"},\"ticker\":{\"id\":\"31da7ccf-8d3d-4ee2-ac12-25603b42ce24\",\"type\":\"BasicTicker\"}},\"id\":\"3124b1a9-6e96-4c41-9270-3a62d552fdfa\",\"type\":\"Grid\"},{\"attributes\":{},\"id\":\"8aecbe09-9664-42e5-b135-a8af59f5e947\",\"type\":\"BasicTicker\"},{\"attributes\":{\"line_alpha\":{\"value\":0.1},\"line_color\":{\"value\":\"#1f77b4\"},\"x\":{\"field\":\"x\"},\"y\":{\"field\":\"y\"}},\"id\":\"5ce67674-ba27-4507-ab63-e73b4f207868\",\"type\":\"Line\"},{\"attributes\":{\"callback\":null,\"column_names\":[\"y\",\"x\"],\"data\":{\"x\":[],\"y\":[]}},\"id\":\"26d5744f-c08c-410b-8e86-99f2c376c54f\",\"type\":\"ColumnDataSource\"},{\"attributes\":{\"callback\":null,\"end\":4.5},\"id\":\"a1ff9378-c432-46ff-9a48-fa992c8d5c89\",\"type\":\"Range1d\"},{\"attributes\":{\"below\":[{\"id\":\"17bc4b10-88d6-405f-9de8-2d819b2b291b\",\"type\":\"LinearAxis\"}],\"left\":[{\"id\":\"98e34e36-f165-4e43-b761-5f02aa2ab97a\",\"type\":\"LinearAxis\"}],\"name\":\"cost\",\"plot_height\":300,\"plot_width\":400,\"renderers\":[{\"id\":\"17bc4b10-88d6-405f-9de8-2d819b2b291b\",\"type\":\"LinearAxis\"},{\"id\":\"088756d7-d5a1-4dfe-872b-d8f19ec8c989\",\"type\":\"Grid\"},{\"id\":\"98e34e36-f165-4e43-b761-5f02aa2ab97a\",\"type\":\"LinearAxis\"},{\"id\":\"3124b1a9-6e96-4c41-9270-3a62d552fdfa\",\"type\":\"Grid\"},{\"id\":\"abc84963-b2f1-4c2b-82a8-4de56e3a516c\",\"type\":\"BoxAnnotation\"},{\"id\":\"8d952b99-196a-4eb2-88fd-c51133091e03\",\"type\":\"GlyphRenderer\"},{\"id\":\"f4d267c2-78c4-4ec8-93a8-1009a1e2341f\",\"type\":\"GlyphRenderer\"}],\"title\":{\"id\":\"1c338dc5-4cf1-4d43-819c-c682ace2ee7b\",\"type\":\"Title\"},\"tool_events\":{\"id\":\"30e97de4-fc34-4ac7-874f-889fb8f3a795\",\"type\":\"ToolEvents\"},\"toolbar\":{\"id\":\"71a0432f-25ac-471e-a0b9-400b100d33c6\",\"type\":\"Toolbar\"},\"x_range\":{\"id\":\"07a8f031-4b0f-4f9b-a9f1-6c3df2fe2055\",\"type\":\"Range1d\"},\"y_range\":{\"id\":\"a1ff9378-c432-46ff-9a48-fa992c8d5c89\",\"type\":\"Range1d\"}},\"id\":\"d5caaaf8-5980-4003-87f8-1ec20eb12933\",\"subtype\":\"Figure\",\"type\":\"Plot\"},{\"attributes\":{\"active_drag\":\"auto\",\"active_scroll\":\"auto\",\"active_tap\":\"auto\",\"tools\":[{\"id\":\"eee42063-229c-44f1-9f57-7869f6790a27\",\"type\":\"PanTool\"},{\"id\":\"a0accc34-8706-4e63-af39-334b75b3391b\",\"type\":\"WheelZoomTool\"},{\"id\":\"32358395-804f-478a-8fc0-5c20a9eead40\",\"type\":\"BoxZoomTool\"},{\"id\":\"98091625-2991-4491-b041-68360f0c6a89\",\"type\":\"SaveTool\"},{\"id\":\"a95aab98-d8c1-4845-8f38-ee7c8dcb3f87\",\"type\":\"ResetTool\"},{\"id\":\"6decfe6a-4e65-4be1-8f46-8f921649d0ca\",\"type\":\"HelpTool\"}]},\"id\":\"71a0432f-25ac-471e-a0b9-400b100d33c6\",\"type\":\"Toolbar\"},{\"attributes\":{\"axis_label\":\"Epoch\",\"formatter\":{\"id\":\"462fadc5-3075-4c82-89bd-adb47bee31bb\",\"type\":\"BasicTickFormatter\"},\"plot\":{\"id\":\"d5caaaf8-5980-4003-87f8-1ec20eb12933\",\"subtype\":\"Figure\",\"type\":\"Plot\"},\"ticker\":{\"id\":\"8aecbe09-9664-42e5-b135-a8af59f5e947\",\"type\":\"BasicTicker\"}},\"id\":\"17bc4b10-88d6-405f-9de8-2d819b2b291b\",\"type\":\"LinearAxis\"},{\"attributes\":{\"plot\":{\"id\":\"d5caaaf8-5980-4003-87f8-1ec20eb12933\",\"subtype\":\"Figure\",\"type\":\"Plot\"}},\"id\":\"a0accc34-8706-4e63-af39-334b75b3391b\",\"type\":\"WheelZoomTool\"},{\"attributes\":{},\"id\":\"30e97de4-fc34-4ac7-874f-889fb8f3a795\",\"type\":\"ToolEvents\"},{\"attributes\":{\"line_alpha\":{\"value\":0.1},\"line_color\":{\"value\":\"#1f77b4\"},\"x\":{\"field\":\"x\"},\"y\":{\"field\":\"y\"}},\"id\":\"13945b1d-89f3-4f26-8a8e-bed45da0fdbb\",\"type\":\"Line\"},{\"attributes\":{\"plot\":null,\"text\":\"\"},\"id\":\"1c338dc5-4cf1-4d43-819c-c682ace2ee7b\",\"type\":\"Title\"},{\"attributes\":{\"plot\":{\"id\":\"d5caaaf8-5980-4003-87f8-1ec20eb12933\",\"subtype\":\"Figure\",\"type\":\"Plot\"}},\"id\":\"6decfe6a-4e65-4be1-8f46-8f921649d0ca\",\"type\":\"HelpTool\"},{\"attributes\":{\"data_source\":{\"id\":\"26d5744f-c08c-410b-8e86-99f2c376c54f\",\"type\":\"ColumnDataSource\"},\"glyph\":{\"id\":\"bea2e8d5-4acd-4aca-8207-9e1c8f62dbad\",\"type\":\"Line\"},\"hover_glyph\":null,\"muted_glyph\":null,\"nonselection_glyph\":{\"id\":\"13945b1d-89f3-4f26-8a8e-bed45da0fdbb\",\"type\":\"Line\"},\"selection_glyph\":null},\"id\":\"8d952b99-196a-4eb2-88fd-c51133091e03\",\"type\":\"GlyphRenderer\"}],\"root_ids\":[\"d5caaaf8-5980-4003-87f8-1ec20eb12933\"]},\"title\":\"Bokeh Application\",\"version\":\"0.12.5\"}};\n",
       "            var render_items = [{\"docid\":\"95e51e22-57f7-49d1-8d2e-2eb43d104376\",\"elementid\":\"26cc8541-aedf-42be-a027-36cf43c33074\",\"modelid\":\"d5caaaf8-5980-4003-87f8-1ec20eb12933\",\"notebook_comms_target\":\"21157477-dd25-4853-9834-eda80c125318\"}];\n",
       "            \n",
       "            Bokeh.embed.embed_items(docs_json, render_items);\n",
       "          };\n",
       "          if (document.readyState != \"loading\") fn();\n",
       "          else document.addEventListener(\"DOMContentLoaded\", fn);\n",
       "        })();\n",
       "      },\n",
       "      function(Bokeh) {\n",
       "      }\n",
       "    ];\n",
       "  \n",
       "    function run_inline_js() {\n",
       "      \n",
       "      if ((window.Bokeh !== undefined) || (force === true)) {\n",
       "        for (var i = 0; i < inline_js.length; i++) {\n",
       "          inline_js[i](window.Bokeh);\n",
       "        }if (force === true) {\n",
       "          display_loaded();\n",
       "        }} else if (Date.now() < window._bokeh_timeout) {\n",
       "        setTimeout(run_inline_js, 100);\n",
       "      } else if (!window._bokeh_failed_load) {\n",
       "        console.log(\"Bokeh: BokehJS failed to load within specified timeout.\");\n",
       "        window._bokeh_failed_load = true;\n",
       "      } else if (force !== true) {\n",
       "        var cell = $(document.getElementById(\"26cc8541-aedf-42be-a027-36cf43c33074\")).parents('.cell').data().cell;\n",
       "        cell.output_area.append_execute_result(NB_LOAD_WARNING)\n",
       "      }\n",
       "  \n",
       "    }\n",
       "  \n",
       "    if (window._bokeh_is_loading === 0) {\n",
       "      console.log(\"Bokeh: BokehJS loaded, going straight to plotting\");\n",
       "      run_inline_js();\n",
       "    } else {\n",
       "      load_libs(js_urls, function() {\n",
       "        console.log(\"Bokeh: BokehJS plotting callback run at\", now());\n",
       "        run_inline_js();\n",
       "      });\n",
       "    }\n",
       "  }(this));\n",
       "</script>"
      ]
     },
     "metadata": {},
     "output_type": "display_data"
    }
   ],
   "source": [
    "model.fit(\n",
    "        train_data          = imdb.train_set,\n",
    "        optimizer           = 'Adagrad',\n",
    "        eval_metric         = mx.metric.CrossEntropy(),\n",
    "        optimizer_params    = {'learning_rate': 0.01},\n",
    "        initializer         = init,\n",
    "        num_epoch           = 2,\n",
    "        batch_end_callback  = callbacks)"
   ]
  },
  {
   "cell_type": "markdown",
   "metadata": {},
   "source": [
    "Accuracy\n",
    "--------\n",
    "\n",
    "We can then measure the model's accuracy on the validation data -- data that the model was not trained on.\n"
   ]
  },
  {
   "cell_type": "code",
   "execution_count": 9,
   "metadata": {},
   "outputs": [
    {
     "name": "stdout",
     "output_type": "stream",
     "text": [
      "Test  Accuracy - 85.1362179487\n"
     ]
    }
   ],
   "source": [
    "score = model.score(imdb.valid_set, mx.metric.Accuracy())\n",
    "print \"Test  Accuracy - {}\".format(100 * score[0][1])"
   ]
  },
  {
   "cell_type": "markdown",
   "metadata": {},
   "source": [
    "Inference\n",
    "--------\n",
    "\n",
    "Now let's do something fun with the trained model! We create a UI below where you can type in your movie review (or any other text) and have it classified into positive or negative."
   ]
  },
  {
   "cell_type": "code",
   "execution_count": 10,
   "metadata": {},
   "outputs": [
    {
     "data": {
      "application/vnd.jupyter.widget-view+json": {
       "model_id": "8d638a27b2a04bf6b1a75b6232d8a7c0"
      }
     },
     "metadata": {},
     "output_type": "display_data"
    }
   ],
   "source": [
    "from imdb import preprocess, text_window\n",
    "from ipywidgets import interact, interactive\n",
    "\n",
    "def inference(x):\n",
    "    inputs = preprocess(x)\n",
    "    output = model.predict(eval_data=inputs).asnumpy()\n",
    "    score = output[0][1]\n",
    "    print(\"Sentiment: {:.1f}% Positive\".format(100*score))\n",
    "\n",
    "z = interact(inference, x=text_window())"
   ]
  },
  {
   "cell_type": "code",
   "execution_count": 12,
   "metadata": {},
   "outputs": [
    {
     "name": "stdout",
     "output_type": "stream",
     "text": [
      "Sentiment: 95.0% Positive\n"
     ]
    }
   ],
   "source": [
    "inference(\"This movie was great!\")"
   ]
  }
 ],
 "metadata": {
  "kernelspec": {
   "display_name": "Python 2",
   "language": "python",
   "name": "python2"
  },
  "language_info": {
   "codemirror_mode": {
    "name": "ipython",
    "version": 2
   },
   "file_extension": ".py",
   "mimetype": "text/x-python",
   "name": "python",
   "nbconvert_exporter": "python",
   "pygments_lexer": "ipython2",
   "version": "2.7.6"
  }
 },
 "nbformat": 4,
 "nbformat_minor": 2
}
